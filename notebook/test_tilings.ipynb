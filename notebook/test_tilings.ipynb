{
 "cells": [
  {
   "cell_type": "markdown",
   "metadata": {},
   "source": [
    "# Some examples show how to use pst.PstGetTilings"
   ]
  },
  {
   "cell_type": "markdown",
   "metadata": {},
   "source": [
    "import module and initialize a new tiling object, a"
   ]
  },
  {
   "cell_type": "code",
   "execution_count": 1,
   "metadata": {},
   "outputs": [
    {
     "data": {
      "text/plain": [
       "<pst.pipeline.PstGetTilings.PstGetTilings at 0x10b118908>"
      ]
     },
     "execution_count": 1,
     "metadata": {},
     "output_type": "execute_result"
    }
   ],
   "source": [
    "from pst.pipeline.PstGetTilings import PstGetTilings\n",
    "a=PstGetTilings()\n",
    "a"
   ]
  },
  {
   "cell_type": "markdown",
   "metadata": {},
   "source": [
    "for a, there're 5 attributes: tiling ra, dec, field of view in ra, dec directions, and the index number"
   ]
  },
  {
   "cell_type": "code",
   "execution_count": 2,
   "metadata": {},
   "outputs": [
    {
     "data": {
      "text/plain": [
       "{'ra': None, 'dec': None, 'n': None, 'fovra': None, 'fovdec': None}"
      ]
     },
     "execution_count": 2,
     "metadata": {},
     "output_type": "execute_result"
    }
   ],
   "source": [
    "a.data"
   ]
  },
  {
   "cell_type": "markdown",
   "metadata": {},
   "source": [
    "fist, you need to parse tilings via: either generate or read from a file"
   ]
  },
  {
   "cell_type": "code",
   "execution_count": 3,
   "metadata": {},
   "outputs": [
    {
     "data": {
      "text/plain": [
       "{'n': array([    0,     1,     2, ..., 27788, 27789, 27790]),\n",
       " 'ra': array([  1.06418,   2.12836,   3.19253, ..., 286.53708, 315.19079,\n",
       "        343.8445 ]),\n",
       " 'dec': array([-20., -20., -20., ...,  88.,  88.,  88.]),\n",
       " 'fovra': array([1., 1., 1., ..., 1., 1., 1.]),\n",
       " 'fovdec': array([1., 1., 1., ..., 1., 1., 1.])}"
      ]
     },
     "execution_count": 3,
     "metadata": {},
     "output_type": "execute_result"
    }
   ],
   "source": [
    "# generate a tiling network\n",
    "# as a test, generate tilings between 0<ra<360, -20<dec<90, with field of view equal to 1 by 1 sq deg\n",
    "a.generate(limra=[0,360],limdec=[-20,90],fovra=1.,fovdec=1.)\n",
    "a.data"
   ]
  },
  {
   "cell_type": "code",
   "execution_count": 4,
   "metadata": {
    "scrolled": true
   },
   "outputs": [
    {
     "name": "stderr",
     "output_type": "stream",
     "text": [
      "INFO:pst.pipeline.PstGetTilings:tilings has already been parsed\n"
     ]
    },
    {
     "data": {
      "text/html": [
       "<i>Table length=27791</i>\n",
       "<table id=\"table4480664632\" class=\"table-striped table-bordered table-condensed\">\n",
       "<thead><tr><th>n</th><th>ra</th><th>dec</th><th>fovra</th><th>fovdec</th></tr></thead>\n",
       "<thead><tr><th>int64</th><th>float64</th><th>float64</th><th>float64</th><th>float64</th></tr></thead>\n",
       "<tr><td>0</td><td>1.06418</td><td>-20.0</td><td>1.0</td><td>1.0</td></tr>\n",
       "<tr><td>1</td><td>2.12836</td><td>-20.0</td><td>1.0</td><td>1.0</td></tr>\n",
       "<tr><td>2</td><td>3.19253</td><td>-20.0</td><td>1.0</td><td>1.0</td></tr>\n",
       "<tr><td>3</td><td>4.25671</td><td>-20.0</td><td>1.0</td><td>1.0</td></tr>\n",
       "<tr><td>4</td><td>5.32089</td><td>-20.0</td><td>1.0</td><td>1.0</td></tr>\n",
       "<tr><td>5</td><td>6.38507</td><td>-20.0</td><td>1.0</td><td>1.0</td></tr>\n",
       "<tr><td>6</td><td>7.44924</td><td>-20.0</td><td>1.0</td><td>1.0</td></tr>\n",
       "<tr><td>7</td><td>8.51342</td><td>-20.0</td><td>1.0</td><td>1.0</td></tr>\n",
       "<tr><td>8</td><td>9.5776</td><td>-20.0</td><td>1.0</td><td>1.0</td></tr>\n",
       "<tr><td>9</td><td>10.64178</td><td>-20.0</td><td>1.0</td><td>1.0</td></tr>\n",
       "<tr><td>...</td><td>...</td><td>...</td><td>...</td><td>...</td></tr>\n",
       "<tr><td>27781</td><td>85.96113</td><td>88.0</td><td>1.0</td><td>1.0</td></tr>\n",
       "<tr><td>27782</td><td>114.61483</td><td>88.0</td><td>1.0</td><td>1.0</td></tr>\n",
       "<tr><td>27783</td><td>143.26854</td><td>88.0</td><td>1.0</td><td>1.0</td></tr>\n",
       "<tr><td>27784</td><td>171.92225</td><td>88.0</td><td>1.0</td><td>1.0</td></tr>\n",
       "<tr><td>27785</td><td>200.57596</td><td>88.0</td><td>1.0</td><td>1.0</td></tr>\n",
       "<tr><td>27786</td><td>229.22967</td><td>88.0</td><td>1.0</td><td>1.0</td></tr>\n",
       "<tr><td>27787</td><td>257.88338</td><td>88.0</td><td>1.0</td><td>1.0</td></tr>\n",
       "<tr><td>27788</td><td>286.53708</td><td>88.0</td><td>1.0</td><td>1.0</td></tr>\n",
       "<tr><td>27789</td><td>315.19079</td><td>88.0</td><td>1.0</td><td>1.0</td></tr>\n",
       "<tr><td>27790</td><td>343.8445</td><td>88.0</td><td>1.0</td><td>1.0</td></tr>\n",
       "</table>"
      ],
      "text/plain": [
       "<Table length=27791>\n",
       "  n       ra      dec    fovra   fovdec\n",
       "int64  float64  float64 float64 float64\n",
       "----- --------- ------- ------- -------\n",
       "    0   1.06418   -20.0     1.0     1.0\n",
       "    1   2.12836   -20.0     1.0     1.0\n",
       "    2   3.19253   -20.0     1.0     1.0\n",
       "    3   4.25671   -20.0     1.0     1.0\n",
       "    4   5.32089   -20.0     1.0     1.0\n",
       "    5   6.38507   -20.0     1.0     1.0\n",
       "    6   7.44924   -20.0     1.0     1.0\n",
       "    7   8.51342   -20.0     1.0     1.0\n",
       "    8    9.5776   -20.0     1.0     1.0\n",
       "    9  10.64178   -20.0     1.0     1.0\n",
       "  ...       ...     ...     ...     ...\n",
       "27781  85.96113    88.0     1.0     1.0\n",
       "27782 114.61483    88.0     1.0     1.0\n",
       "27783 143.26854    88.0     1.0     1.0\n",
       "27784 171.92225    88.0     1.0     1.0\n",
       "27785 200.57596    88.0     1.0     1.0\n",
       "27786 229.22967    88.0     1.0     1.0\n",
       "27787 257.88338    88.0     1.0     1.0\n",
       "27788 286.53708    88.0     1.0     1.0\n",
       "27789 315.19079    88.0     1.0     1.0\n",
       "27790  343.8445    88.0     1.0     1.0"
      ]
     },
     "execution_count": 4,
     "metadata": {},
     "output_type": "execute_result"
    }
   ],
   "source": [
    "# show as a astropy table\n",
    "a.astrotab()"
   ]
  },
  {
   "cell_type": "code",
   "execution_count": 5,
   "metadata": {},
   "outputs": [
    {
     "name": "stdout",
     "output_type": "stream",
     "text": [
      "LVC#S190510g-2-Initial.xml              test_galaxies.ipynb\r\n",
      "LVC#S190510g-2-Initial_bayestar.fits.gz test_plot.ipynb\r\n",
      "icecube_ehe.xml                         test_tilings.ipynb\r\n",
      "pst_remove_tiles.npz                    test_tilings.py\r\n",
      "pst_tiles.npz                           test_tilings.py~\r\n",
      "pst_tiles.txt                           test_triggers.ipynb\r\n",
      "pstools_tilings.log\r\n"
     ]
    }
   ],
   "source": [
    "!ls"
   ]
  },
  {
   "cell_type": "code",
   "execution_count": 6,
   "metadata": {},
   "outputs": [
    {
     "name": "stderr",
     "output_type": "stream",
     "text": [
      "INFO:pst.pipeline.PstGetTilings:tilings has already been parsed\n",
      "INFO:pst.pipeline.PstGetTilings:tilings has already been parsed\n"
     ]
    },
    {
     "name": "stdout",
     "output_type": "stream",
     "text": [
      "LVC#S190510g-2-Initial.xml              test_galaxies.ipynb\r\n",
      "LVC#S190510g-2-Initial_bayestar.fits.gz test_plot.ipynb\r\n",
      "icecube_ehe.xml                         test_tilings.ipynb\r\n",
      "pst_remove_tiles.npz                    test_tilings.py\r\n",
      "pst_tiles.npz                           test_tilings.py~\r\n",
      "pst_tiles.txt                           test_triggers.ipynb\r\n",
      "pstools_tilings.log\r\n"
     ]
    }
   ],
   "source": [
    "'''\n",
    "save tilings first\n",
    "if you want to use your own tilings, just read the file created by pstools, and try to use the same construting scheme\n",
    "now there're filetypes available: 'npz', a pickle file by numpy, and 'txt', a plain text file\n",
    "Note: for npz, you need to specify keys as ra, dec, fovra, fovdec, n\n",
    "while for txt, in the first line wrote: # k1 k2 k3 k4 k5 ...\n",
    "just make ra, dec, fovra, fovdec, n are included in ki\n",
    "'''\n",
    "a.save(filetype='npz', filename='pst_tiles', wdir='./')\n",
    "a.save(filetype='txt', filename='pst_tiles', wdir='./')\n",
    "!ls"
   ]
  },
  {
   "cell_type": "code",
   "execution_count": 7,
   "metadata": {},
   "outputs": [
    {
     "name": "stderr",
     "output_type": "stream",
     "text": [
      "INFO:pst.pipeline.PstGetTilings:tilings has already been parsed\n"
     ]
    },
    {
     "data": {
      "text/html": [
       "<i>Table length=27791</i>\n",
       "<table id=\"table4480665472\" class=\"table-striped table-bordered table-condensed\">\n",
       "<thead><tr><th>n</th><th>ra</th><th>dec</th><th>fovra</th><th>fovdec</th></tr></thead>\n",
       "<thead><tr><th>int64</th><th>float64</th><th>float64</th><th>float64</th><th>float64</th></tr></thead>\n",
       "<tr><td>0</td><td>1.06418</td><td>-20.0</td><td>1.0</td><td>1.0</td></tr>\n",
       "<tr><td>1</td><td>2.12836</td><td>-20.0</td><td>1.0</td><td>1.0</td></tr>\n",
       "<tr><td>2</td><td>3.19253</td><td>-20.0</td><td>1.0</td><td>1.0</td></tr>\n",
       "<tr><td>3</td><td>4.25671</td><td>-20.0</td><td>1.0</td><td>1.0</td></tr>\n",
       "<tr><td>4</td><td>5.32089</td><td>-20.0</td><td>1.0</td><td>1.0</td></tr>\n",
       "<tr><td>5</td><td>6.38507</td><td>-20.0</td><td>1.0</td><td>1.0</td></tr>\n",
       "<tr><td>6</td><td>7.44924</td><td>-20.0</td><td>1.0</td><td>1.0</td></tr>\n",
       "<tr><td>7</td><td>8.51342</td><td>-20.0</td><td>1.0</td><td>1.0</td></tr>\n",
       "<tr><td>8</td><td>9.5776</td><td>-20.0</td><td>1.0</td><td>1.0</td></tr>\n",
       "<tr><td>9</td><td>10.64178</td><td>-20.0</td><td>1.0</td><td>1.0</td></tr>\n",
       "<tr><td>...</td><td>...</td><td>...</td><td>...</td><td>...</td></tr>\n",
       "<tr><td>27781</td><td>85.96113</td><td>88.0</td><td>1.0</td><td>1.0</td></tr>\n",
       "<tr><td>27782</td><td>114.61483</td><td>88.0</td><td>1.0</td><td>1.0</td></tr>\n",
       "<tr><td>27783</td><td>143.26854</td><td>88.0</td><td>1.0</td><td>1.0</td></tr>\n",
       "<tr><td>27784</td><td>171.92225</td><td>88.0</td><td>1.0</td><td>1.0</td></tr>\n",
       "<tr><td>27785</td><td>200.57596</td><td>88.0</td><td>1.0</td><td>1.0</td></tr>\n",
       "<tr><td>27786</td><td>229.22967</td><td>88.0</td><td>1.0</td><td>1.0</td></tr>\n",
       "<tr><td>27787</td><td>257.88338</td><td>88.0</td><td>1.0</td><td>1.0</td></tr>\n",
       "<tr><td>27788</td><td>286.53708</td><td>88.0</td><td>1.0</td><td>1.0</td></tr>\n",
       "<tr><td>27789</td><td>315.19079</td><td>88.0</td><td>1.0</td><td>1.0</td></tr>\n",
       "<tr><td>27790</td><td>343.8445</td><td>88.0</td><td>1.0</td><td>1.0</td></tr>\n",
       "</table>"
      ],
      "text/plain": [
       "<Table length=27791>\n",
       "  n       ra      dec    fovra   fovdec\n",
       "int64  float64  float64 float64 float64\n",
       "----- --------- ------- ------- -------\n",
       "    0   1.06418   -20.0     1.0     1.0\n",
       "    1   2.12836   -20.0     1.0     1.0\n",
       "    2   3.19253   -20.0     1.0     1.0\n",
       "    3   4.25671   -20.0     1.0     1.0\n",
       "    4   5.32089   -20.0     1.0     1.0\n",
       "    5   6.38507   -20.0     1.0     1.0\n",
       "    6   7.44924   -20.0     1.0     1.0\n",
       "    7   8.51342   -20.0     1.0     1.0\n",
       "    8    9.5776   -20.0     1.0     1.0\n",
       "    9  10.64178   -20.0     1.0     1.0\n",
       "  ...       ...     ...     ...     ...\n",
       "27781  85.96113    88.0     1.0     1.0\n",
       "27782 114.61483    88.0     1.0     1.0\n",
       "27783 143.26854    88.0     1.0     1.0\n",
       "27784 171.92225    88.0     1.0     1.0\n",
       "27785 200.57596    88.0     1.0     1.0\n",
       "27786 229.22967    88.0     1.0     1.0\n",
       "27787 257.88338    88.0     1.0     1.0\n",
       "27788 286.53708    88.0     1.0     1.0\n",
       "27789 315.19079    88.0     1.0     1.0\n",
       "27790  343.8445    88.0     1.0     1.0"
      ]
     },
     "execution_count": 7,
     "metadata": {},
     "output_type": "execute_result"
    }
   ],
   "source": [
    "# read a tiling network\n",
    "a.read(filetype='npz', filename='pst_tiles', wdir='./')\n",
    "a.astrotab()"
   ]
  },
  {
   "cell_type": "markdown",
   "metadata": {},
   "source": [
    "after the tilings is already parsed"
   ]
  },
  {
   "cell_type": "code",
   "execution_count": 8,
   "metadata": {},
   "outputs": [
    {
     "name": "stderr",
     "output_type": "stream",
     "text": [
      "INFO:pst.pipeline.PstGetTilings:tilings has already been parsed\n"
     ]
    },
    {
     "data": {
      "text/plain": [
       "True"
      ]
     },
     "execution_count": 8,
     "metadata": {},
     "output_type": "execute_result"
    }
   ],
   "source": [
    "a.checkdata()"
   ]
  },
  {
   "cell_type": "markdown",
   "metadata": {},
   "source": [
    "we can then learn the tilings:\n",
    "1. remove some fields\n",
    "2. calculate the coverage of trigger probability\n",
    "3. calculate visibility\n",
    "... ..."
   ]
  },
  {
   "cell_type": "code",
   "execution_count": 9,
   "metadata": {},
   "outputs": [
    {
     "name": "stderr",
     "output_type": "stream",
     "text": [
      "INFO:pst.pipeline.PstGetTilings:tilings has already been parsed\n",
      "INFO:pst.pipeline.PstGetTilings:tilings has already been parsed\n"
     ]
    },
    {
     "data": {
      "text/html": [
       "<i>Table length=250119</i>\n",
       "<table id=\"table4942579304\" class=\"table-striped table-bordered table-condensed\">\n",
       "<thead><tr><th>n</th><th>ra</th><th>dec</th><th>fovra</th><th>fovdec</th></tr></thead>\n",
       "<thead><tr><th>int64</th><th>float64</th><th>float64</th><th>float64</th><th>float64</th></tr></thead>\n",
       "<tr><td>1</td><td>-0.00696</td><td>-21.0</td><td>0.33333</td><td>0.33333</td></tr>\n",
       "<tr><td>1</td><td>1.06418</td><td>-21.0</td><td>0.33333</td><td>0.33333</td></tr>\n",
       "<tr><td>1</td><td>2.13532</td><td>-21.0</td><td>0.33333</td><td>0.33333</td></tr>\n",
       "<tr><td>1</td><td>0.0</td><td>-20.0</td><td>0.33333</td><td>0.33333</td></tr>\n",
       "<tr><td>1</td><td>1.06418</td><td>-20.0</td><td>0.33333</td><td>0.33333</td></tr>\n",
       "<tr><td>1</td><td>2.12836</td><td>-20.0</td><td>0.33333</td><td>0.33333</td></tr>\n",
       "<tr><td>1</td><td>0.00656</td><td>-19.0</td><td>0.33333</td><td>0.33333</td></tr>\n",
       "<tr><td>1</td><td>1.06418</td><td>-19.0</td><td>0.33333</td><td>0.33333</td></tr>\n",
       "<tr><td>1</td><td>2.1218</td><td>-19.0</td><td>0.33333</td><td>0.33333</td></tr>\n",
       "<tr><td>2</td><td>1.05722</td><td>-21.0</td><td>0.33333</td><td>0.33333</td></tr>\n",
       "<tr><td>...</td><td>...</td><td>...</td><td>...</td><td>...</td></tr>\n",
       "<tr><td>27790</td><td>372.48948</td><td>89.0</td><td>0.33333</td><td>0.33333</td></tr>\n",
       "<tr><td>27791</td><td>324.73718</td><td>87.0</td><td>0.33333</td><td>0.33333</td></tr>\n",
       "<tr><td>27791</td><td>343.8445</td><td>87.0</td><td>0.33333</td><td>0.33333</td></tr>\n",
       "<tr><td>27791</td><td>362.95182</td><td>87.0</td><td>0.33333</td><td>0.33333</td></tr>\n",
       "<tr><td>27791</td><td>315.19079</td><td>88.0</td><td>0.33333</td><td>0.33333</td></tr>\n",
       "<tr><td>27791</td><td>343.8445</td><td>88.0</td><td>0.33333</td><td>0.33333</td></tr>\n",
       "<tr><td>27791</td><td>372.49821</td><td>88.0</td><td>0.33333</td><td>0.33333</td></tr>\n",
       "<tr><td>27791</td><td>286.54581</td><td>89.0</td><td>0.33333</td><td>0.33333</td></tr>\n",
       "<tr><td>27791</td><td>343.8445</td><td>89.0</td><td>0.33333</td><td>0.33333</td></tr>\n",
       "<tr><td>27791</td><td>401.14319</td><td>89.0</td><td>0.33333</td><td>0.33333</td></tr>\n",
       "</table>"
      ],
      "text/plain": [
       "<Table length=250119>\n",
       "  n       ra      dec    fovra   fovdec\n",
       "int64  float64  float64 float64 float64\n",
       "----- --------- ------- ------- -------\n",
       "    1  -0.00696   -21.0 0.33333 0.33333\n",
       "    1   1.06418   -21.0 0.33333 0.33333\n",
       "    1   2.13532   -21.0 0.33333 0.33333\n",
       "    1       0.0   -20.0 0.33333 0.33333\n",
       "    1   1.06418   -20.0 0.33333 0.33333\n",
       "    1   2.12836   -20.0 0.33333 0.33333\n",
       "    1   0.00656   -19.0 0.33333 0.33333\n",
       "    1   1.06418   -19.0 0.33333 0.33333\n",
       "    1    2.1218   -19.0 0.33333 0.33333\n",
       "    2   1.05722   -21.0 0.33333 0.33333\n",
       "  ...       ...     ...     ...     ...\n",
       "27790 372.48948    89.0 0.33333 0.33333\n",
       "27791 324.73718    87.0 0.33333 0.33333\n",
       "27791  343.8445    87.0 0.33333 0.33333\n",
       "27791 362.95182    87.0 0.33333 0.33333\n",
       "27791 315.19079    88.0 0.33333 0.33333\n",
       "27791  343.8445    88.0 0.33333 0.33333\n",
       "27791 372.49821    88.0 0.33333 0.33333\n",
       "27791 286.54581    89.0 0.33333 0.33333\n",
       "27791  343.8445    89.0 0.33333 0.33333\n",
       "27791 401.14319    89.0 0.33333 0.33333"
      ]
     },
     "execution_count": 9,
     "metadata": {},
     "output_type": "execute_result"
    }
   ],
   "source": [
    "# divide each tile to a sub tile\n",
    "# e.g. divide each pointings into a 3 by 3 new pointing networks\n",
    "a.divide_OB(nobw=3, nobh=3)\n",
    "a.astrotab()"
   ]
  },
  {
   "cell_type": "code",
   "execution_count": 10,
   "metadata": {},
   "outputs": [
    {
     "name": "stderr",
     "output_type": "stream",
     "text": [
      "INFO:pst.pipeline.PstGetTilings:tilings has already been parsed\n",
      "INFO:pst.pipeline.PstGetTilings:tilings has already been parsed\n"
     ]
    },
    {
     "data": {
      "text/html": [
       "<i>Table length=249211</i>\n",
       "<table id=\"table4479719296\" class=\"table-striped table-bordered table-condensed\">\n",
       "<thead><tr><th>n</th><th>ra</th><th>dec</th><th>fovra</th><th>fovdec</th></tr></thead>\n",
       "<thead><tr><th>int64</th><th>float64</th><th>float64</th><th>float64</th><th>float64</th></tr></thead>\n",
       "<tr><td>1</td><td>-0.00696</td><td>-21.0</td><td>0.33333</td><td>0.33333</td></tr>\n",
       "<tr><td>1</td><td>1.06418</td><td>-21.0</td><td>0.33333</td><td>0.33333</td></tr>\n",
       "<tr><td>1</td><td>2.13532</td><td>-21.0</td><td>0.33333</td><td>0.33333</td></tr>\n",
       "<tr><td>1</td><td>0.0</td><td>-20.0</td><td>0.33333</td><td>0.33333</td></tr>\n",
       "<tr><td>1</td><td>1.06418</td><td>-20.0</td><td>0.33333</td><td>0.33333</td></tr>\n",
       "<tr><td>1</td><td>2.12836</td><td>-20.0</td><td>0.33333</td><td>0.33333</td></tr>\n",
       "<tr><td>1</td><td>0.00656</td><td>-19.0</td><td>0.33333</td><td>0.33333</td></tr>\n",
       "<tr><td>1</td><td>1.06418</td><td>-19.0</td><td>0.33333</td><td>0.33333</td></tr>\n",
       "<tr><td>1</td><td>2.1218</td><td>-19.0</td><td>0.33333</td><td>0.33333</td></tr>\n",
       "<tr><td>2</td><td>1.05722</td><td>-21.0</td><td>0.33333</td><td>0.33333</td></tr>\n",
       "<tr><td>...</td><td>...</td><td>...</td><td>...</td><td>...</td></tr>\n",
       "<tr><td>27790</td><td>372.48948</td><td>89.0</td><td>0.33333</td><td>0.33333</td></tr>\n",
       "<tr><td>27791</td><td>324.73718</td><td>87.0</td><td>0.33333</td><td>0.33333</td></tr>\n",
       "<tr><td>27791</td><td>343.8445</td><td>87.0</td><td>0.33333</td><td>0.33333</td></tr>\n",
       "<tr><td>27791</td><td>362.95182</td><td>87.0</td><td>0.33333</td><td>0.33333</td></tr>\n",
       "<tr><td>27791</td><td>315.19079</td><td>88.0</td><td>0.33333</td><td>0.33333</td></tr>\n",
       "<tr><td>27791</td><td>343.8445</td><td>88.0</td><td>0.33333</td><td>0.33333</td></tr>\n",
       "<tr><td>27791</td><td>372.49821</td><td>88.0</td><td>0.33333</td><td>0.33333</td></tr>\n",
       "<tr><td>27791</td><td>286.54581</td><td>89.0</td><td>0.33333</td><td>0.33333</td></tr>\n",
       "<tr><td>27791</td><td>343.8445</td><td>89.0</td><td>0.33333</td><td>0.33333</td></tr>\n",
       "<tr><td>27791</td><td>401.14319</td><td>89.0</td><td>0.33333</td><td>0.33333</td></tr>\n",
       "</table>"
      ],
      "text/plain": [
       "<Table length=249211>\n",
       "  n       ra      dec    fovra   fovdec\n",
       "int64  float64  float64 float64 float64\n",
       "----- --------- ------- ------- -------\n",
       "    1  -0.00696   -21.0 0.33333 0.33333\n",
       "    1   1.06418   -21.0 0.33333 0.33333\n",
       "    1   2.13532   -21.0 0.33333 0.33333\n",
       "    1       0.0   -20.0 0.33333 0.33333\n",
       "    1   1.06418   -20.0 0.33333 0.33333\n",
       "    1   2.12836   -20.0 0.33333 0.33333\n",
       "    1   0.00656   -19.0 0.33333 0.33333\n",
       "    1   1.06418   -19.0 0.33333 0.33333\n",
       "    1    2.1218   -19.0 0.33333 0.33333\n",
       "    2   1.05722   -21.0 0.33333 0.33333\n",
       "  ...       ...     ...     ...     ...\n",
       "27790 372.48948    89.0 0.33333 0.33333\n",
       "27791 324.73718    87.0 0.33333 0.33333\n",
       "27791  343.8445    87.0 0.33333 0.33333\n",
       "27791 362.95182    87.0 0.33333 0.33333\n",
       "27791 315.19079    88.0 0.33333 0.33333\n",
       "27791  343.8445    88.0 0.33333 0.33333\n",
       "27791 372.49821    88.0 0.33333 0.33333\n",
       "27791 286.54581    89.0 0.33333 0.33333\n",
       "27791  343.8445    89.0 0.33333 0.33333\n",
       "27791 401.14319    89.0 0.33333 0.33333"
      ]
     },
     "execution_count": 10,
     "metadata": {},
     "output_type": "execute_result"
    }
   ],
   "source": [
    "'''\n",
    "remove some fields:\n",
    "1. by a coordinate\n",
    "2. by a file, as the same, either npz or txt file\n",
    "'''\n",
    "# remove all fields located in box1: ra=10 dec=10, fovra=10, fovdec=10, and box2: ra=15 dec=-20, fovra=3, fovdec=6\n",
    "# if 50% of a tile is coved by either of these two boxes, will be then removed\n",
    "a.remove_fileds_coo([10,15], [10,-20], [10,3], [10,6], skipfrac=0.5)\n",
    "a.astrotab()"
   ]
  },
  {
   "cell_type": "code",
   "execution_count": 11,
   "metadata": {},
   "outputs": [
    {
     "name": "stderr",
     "output_type": "stream",
     "text": [
      "INFO:pst.pipeline.PstGetTilings:tilings has already been parsed\n",
      "INFO:pst.pipeline.PstGetTilings:tilings has already been parsed\n",
      "INFO:pst.pipeline.PstGetTilings:tilings has already been parsed\n"
     ]
    },
    {
     "data": {
      "text/html": [
       "<i>Table length=242914</i>\n",
       "<table id=\"table4466848432\" class=\"table-striped table-bordered table-condensed\">\n",
       "<thead><tr><th>n</th><th>ra</th><th>dec</th><th>fovra</th><th>fovdec</th></tr></thead>\n",
       "<thead><tr><th>int64</th><th>float64</th><th>float64</th><th>float64</th><th>float64</th></tr></thead>\n",
       "<tr><td>1</td><td>-0.00696</td><td>-21.0</td><td>0.33333</td><td>0.33333</td></tr>\n",
       "<tr><td>1</td><td>1.06418</td><td>-21.0</td><td>0.33333</td><td>0.33333</td></tr>\n",
       "<tr><td>1</td><td>2.13532</td><td>-21.0</td><td>0.33333</td><td>0.33333</td></tr>\n",
       "<tr><td>1</td><td>0.0</td><td>-20.0</td><td>0.33333</td><td>0.33333</td></tr>\n",
       "<tr><td>1</td><td>1.06418</td><td>-20.0</td><td>0.33333</td><td>0.33333</td></tr>\n",
       "<tr><td>1</td><td>2.12836</td><td>-20.0</td><td>0.33333</td><td>0.33333</td></tr>\n",
       "<tr><td>1</td><td>0.00656</td><td>-19.0</td><td>0.33333</td><td>0.33333</td></tr>\n",
       "<tr><td>1</td><td>1.06418</td><td>-19.0</td><td>0.33333</td><td>0.33333</td></tr>\n",
       "<tr><td>1</td><td>2.1218</td><td>-19.0</td><td>0.33333</td><td>0.33333</td></tr>\n",
       "<tr><td>2</td><td>1.05722</td><td>-21.0</td><td>0.33333</td><td>0.33333</td></tr>\n",
       "<tr><td>...</td><td>...</td><td>...</td><td>...</td><td>...</td></tr>\n",
       "<tr><td>27790</td><td>372.48948</td><td>89.0</td><td>0.33333</td><td>0.33333</td></tr>\n",
       "<tr><td>27791</td><td>324.73718</td><td>87.0</td><td>0.33333</td><td>0.33333</td></tr>\n",
       "<tr><td>27791</td><td>343.8445</td><td>87.0</td><td>0.33333</td><td>0.33333</td></tr>\n",
       "<tr><td>27791</td><td>362.95182</td><td>87.0</td><td>0.33333</td><td>0.33333</td></tr>\n",
       "<tr><td>27791</td><td>315.19079</td><td>88.0</td><td>0.33333</td><td>0.33333</td></tr>\n",
       "<tr><td>27791</td><td>343.8445</td><td>88.0</td><td>0.33333</td><td>0.33333</td></tr>\n",
       "<tr><td>27791</td><td>372.49821</td><td>88.0</td><td>0.33333</td><td>0.33333</td></tr>\n",
       "<tr><td>27791</td><td>286.54581</td><td>89.0</td><td>0.33333</td><td>0.33333</td></tr>\n",
       "<tr><td>27791</td><td>343.8445</td><td>89.0</td><td>0.33333</td><td>0.33333</td></tr>\n",
       "<tr><td>27791</td><td>401.14319</td><td>89.0</td><td>0.33333</td><td>0.33333</td></tr>\n",
       "</table>"
      ],
      "text/plain": [
       "<Table length=242914>\n",
       "  n       ra      dec    fovra   fovdec\n",
       "int64  float64  float64 float64 float64\n",
       "----- --------- ------- ------- -------\n",
       "    1  -0.00696   -21.0 0.33333 0.33333\n",
       "    1   1.06418   -21.0 0.33333 0.33333\n",
       "    1   2.13532   -21.0 0.33333 0.33333\n",
       "    1       0.0   -20.0 0.33333 0.33333\n",
       "    1   1.06418   -20.0 0.33333 0.33333\n",
       "    1   2.12836   -20.0 0.33333 0.33333\n",
       "    1   0.00656   -19.0 0.33333 0.33333\n",
       "    1   1.06418   -19.0 0.33333 0.33333\n",
       "    1    2.1218   -19.0 0.33333 0.33333\n",
       "    2   1.05722   -21.0 0.33333 0.33333\n",
       "  ...       ...     ...     ...     ...\n",
       "27790 372.48948    89.0 0.33333 0.33333\n",
       "27791 324.73718    87.0 0.33333 0.33333\n",
       "27791  343.8445    87.0 0.33333 0.33333\n",
       "27791 362.95182    87.0 0.33333 0.33333\n",
       "27791 315.19079    88.0 0.33333 0.33333\n",
       "27791  343.8445    88.0 0.33333 0.33333\n",
       "27791 372.49821    88.0 0.33333 0.33333\n",
       "27791 286.54581    89.0 0.33333 0.33333\n",
       "27791  343.8445    89.0 0.33333 0.33333\n",
       "27791 401.14319    89.0 0.33333 0.33333"
      ]
     },
     "execution_count": 11,
     "metadata": {},
     "output_type": "execute_result"
    }
   ],
   "source": [
    "# remove all fields parsed from a file\n",
    "\n",
    "# 1. generate a file\n",
    "b=PstGetTilings()\n",
    "b.generate(limra=[60,100],limdec=[20,40],fovra=2.,fovdec=1.)\n",
    "b.save(filetype='npz', filename='pst_remove_tiles', wdir='./')\n",
    "\n",
    "# 2. remove it\n",
    "a.remove_fields_file(filetype='npz', filename='pst_remove_tiles', wdir='./',nside=512, skipfrac=0, nest=False)\n",
    "a.astrotab()"
   ]
  },
  {
   "cell_type": "code",
   "execution_count": 12,
   "metadata": {},
   "outputs": [
    {
     "name": "stdout",
     "output_type": "stream",
     "text": [
      "NSIDE = 512\n",
      "ORDERING = NESTED in fits file\n",
      "INDXSCHM = IMPLICIT\n",
      "Ordering converted to RING\n",
      "Ordering converted to RING\n",
      "Ordering converted to RING\n"
     ]
    },
    {
     "name": "stderr",
     "output_type": "stream",
     "text": [
      "INFO:pst.pipeline.PstGetTilings:tilings has already been parsed\n"
     ]
    },
    {
     "name": "stdout",
     "output_type": "stream",
     "text": [
      "Ordering converted to RING\n"
     ]
    },
    {
     "data": {
      "text/html": [
       "<i>Table length=242914</i>\n",
       "<table id=\"table4942663464\" class=\"table-striped table-bordered table-condensed\">\n",
       "<thead><tr><th>n</th><th>prob</th></tr></thead>\n",
       "<thead><tr><th>int64</th><th>float64</th></tr></thead>\n",
       "<tr><td>1</td><td>3.5251897314886625e-06</td></tr>\n",
       "<tr><td>1</td><td>3.7706905312843123e-06</td></tr>\n",
       "<tr><td>1</td><td>9.882658721147498e-06</td></tr>\n",
       "<tr><td>1</td><td>3.5251897314886625e-06</td></tr>\n",
       "<tr><td>1</td><td>9.40108784800009e-06</td></tr>\n",
       "<tr><td>1</td><td>1.474753354936126e-05</td></tr>\n",
       "<tr><td>1</td><td>1.0472293423219559e-05</td></tr>\n",
       "<tr><td>1</td><td>1.8334601884970196e-05</td></tr>\n",
       "<tr><td>1</td><td>2.144253312671689e-05</td></tr>\n",
       "<tr><td>2</td><td>4.651987964156478e-06</td></tr>\n",
       "<tr><td>...</td><td>...</td></tr>\n",
       "<tr><td>27790</td><td>1.1287745311781483e-06</td></tr>\n",
       "<tr><td>27791</td><td>1.413168639040179e-06</td></tr>\n",
       "<tr><td>27791</td><td>1.211287404891582e-06</td></tr>\n",
       "<tr><td>27791</td><td>6.512289788630912e-07</td></tr>\n",
       "<tr><td>27791</td><td>1.63474142315729e-06</td></tr>\n",
       "<tr><td>27791</td><td>1.211287404891582e-06</td></tr>\n",
       "<tr><td>27791</td><td>7.05186797940065e-07</td></tr>\n",
       "<tr><td>27791</td><td>1.2260560673679674e-06</td></tr>\n",
       "<tr><td>27791</td><td>1.2260560673679674e-06</td></tr>\n",
       "<tr><td>27791</td><td>1.0033551388250208e-06</td></tr>\n",
       "</table>"
      ],
      "text/plain": [
       "<Table length=242914>\n",
       "  n            prob         \n",
       "int64        float64        \n",
       "----- ----------------------\n",
       "    1 3.5251897314886625e-06\n",
       "    1 3.7706905312843123e-06\n",
       "    1  9.882658721147498e-06\n",
       "    1 3.5251897314886625e-06\n",
       "    1   9.40108784800009e-06\n",
       "    1  1.474753354936126e-05\n",
       "    1 1.0472293423219559e-05\n",
       "    1 1.8334601884970196e-05\n",
       "    1  2.144253312671689e-05\n",
       "    2  4.651987964156478e-06\n",
       "  ...                    ...\n",
       "27790 1.1287745311781483e-06\n",
       "27791  1.413168639040179e-06\n",
       "27791  1.211287404891582e-06\n",
       "27791  6.512289788630912e-07\n",
       "27791   1.63474142315729e-06\n",
       "27791  1.211287404891582e-06\n",
       "27791   7.05186797940065e-07\n",
       "27791 1.2260560673679674e-06\n",
       "27791 1.2260560673679674e-06\n",
       "27791 1.0033551388250208e-06"
      ]
     },
     "execution_count": 12,
     "metadata": {},
     "output_type": "execute_result"
    }
   ],
   "source": [
    "'''\n",
    "calculate the coverage of a GW trigger\n",
    "'''\n",
    "from pst.pipeline.PstParseTriggers import PstParseTriggers\n",
    "c=PstParseTriggers()\n",
    "c.url('https://gracedb.ligo.org/api/superevents/S190510g/files/bayestar.fits.gz')\n",
    "\n",
    "# obtain the probability within the GW error box\n",
    "prob=a.calc_prob_loc(c)\n",
    "prob"
   ]
  },
  {
   "cell_type": "code",
   "execution_count": 13,
   "metadata": {},
   "outputs": [
    {
     "name": "stderr",
     "output_type": "stream",
     "text": [
      "INFO:pst.pipeline.PstGetTilings:tilings has already been parsed\n"
     ]
    },
    {
     "data": {
      "text/html": [
       "<i>Table length=242914</i>\n",
       "<table id=\"table4938488632\" class=\"table-striped table-bordered table-condensed\">\n",
       "<thead><tr><th>n</th><th>prob</th></tr></thead>\n",
       "<thead><tr><th>int64</th><th>float64</th></tr></thead>\n",
       "<tr><td>1</td><td>3.5295550559221474e-07</td></tr>\n",
       "<tr><td>1</td><td>3.5295550559221474e-07</td></tr>\n",
       "<tr><td>1</td><td>4.992827333095122e-07</td></tr>\n",
       "<tr><td>1</td><td>3.5295550559221474e-07</td></tr>\n",
       "<tr><td>1</td><td>5.066654918645715e-07</td></tr>\n",
       "<tr><td>1</td><td>6.09478499636595e-07</td></tr>\n",
       "<tr><td>1</td><td>5.230807859636696e-07</td></tr>\n",
       "<tr><td>1</td><td>6.216096343416206e-07</td></tr>\n",
       "<tr><td>1</td><td>6.09478499636595e-07</td></tr>\n",
       "<tr><td>2</td><td>3.5295550559221474e-07</td></tr>\n",
       "<tr><td>...</td><td>...</td></tr>\n",
       "<tr><td>27790</td><td>5.182599634609388e-06</td></tr>\n",
       "<tr><td>27791</td><td>6.222299613788643e-06</td></tr>\n",
       "<tr><td>27791</td><td>6.222299613788643e-06</td></tr>\n",
       "<tr><td>27791</td><td>5.514939297565769e-06</td></tr>\n",
       "<tr><td>27791</td><td>5.914321558501642e-06</td></tr>\n",
       "<tr><td>27791</td><td>6.222299613788643e-06</td></tr>\n",
       "<tr><td>27791</td><td>5.514939297565769e-06</td></tr>\n",
       "<tr><td>27791</td><td>5.914321558501642e-06</td></tr>\n",
       "<tr><td>27791</td><td>5.914321558501642e-06</td></tr>\n",
       "<tr><td>27791</td><td>5.182599634609388e-06</td></tr>\n",
       "</table>"
      ],
      "text/plain": [
       "<Table length=242914>\n",
       "  n            prob         \n",
       "int64        float64        \n",
       "----- ----------------------\n",
       "    1 3.5295550559221474e-07\n",
       "    1 3.5295550559221474e-07\n",
       "    1  4.992827333095122e-07\n",
       "    1 3.5295550559221474e-07\n",
       "    1  5.066654918645715e-07\n",
       "    1   6.09478499636595e-07\n",
       "    1  5.230807859636696e-07\n",
       "    1  6.216096343416206e-07\n",
       "    1   6.09478499636595e-07\n",
       "    2 3.5295550559221474e-07\n",
       "  ...                    ...\n",
       "27790  5.182599634609388e-06\n",
       "27791  6.222299613788643e-06\n",
       "27791  6.222299613788643e-06\n",
       "27791  5.514939297565769e-06\n",
       "27791  5.914321558501642e-06\n",
       "27791  6.222299613788643e-06\n",
       "27791  5.514939297565769e-06\n",
       "27791  5.914321558501642e-06\n",
       "27791  5.914321558501642e-06\n",
       "27791  5.182599634609388e-06"
      ]
     },
     "execution_count": 13,
     "metadata": {},
     "output_type": "execute_result"
    }
   ],
   "source": [
    "# calculate the distance probability\n",
    "# comparead with the telescope limiting distance on targeting sources with the GW informations\n",
    "# suppose the limiting distance of one telescope on KNe is 100 Mpc\n",
    "prob=a.calc_prob_dis(c, nest=False, limdist=100)\n",
    "prob"
   ]
  },
  {
   "cell_type": "code",
   "execution_count": 14,
   "metadata": {},
   "outputs": [
    {
     "name": "stderr",
     "output_type": "stream",
     "text": [
      "INFO:keyring.backend:Loading KWallet\n",
      "INFO:keyring.backend:Loading SecretService\n",
      "INFO:keyring.backend:Loading Windows\n",
      "INFO:keyring.backend:Loading chainer\n",
      "INFO:keyring.backend:Loading macOS\n",
      "INFO:pst.pipeline.PstGetGalaxies:32725 galaxies selected from VII/281\n",
      "INFO:pst.pipeline.PstGetTilings:tilings has already been parsed\n",
      "INFO:pst.pipeline.PstGetGalaxies:galaxies has already been parsed\n"
     ]
    },
    {
     "data": {
      "text/html": [
       "<i>Table length=242914</i>\n",
       "<table id=\"table4949863840\" class=\"table-striped table-bordered table-condensed\">\n",
       "<thead><tr><th>n</th><th>prob</th></tr></thead>\n",
       "<thead><tr><th>int64</th><th>float64</th></tr></thead>\n",
       "<tr><td>1</td><td>0.0</td></tr>\n",
       "<tr><td>1</td><td>0.0</td></tr>\n",
       "<tr><td>1</td><td>0.0</td></tr>\n",
       "<tr><td>1</td><td>0.0</td></tr>\n",
       "<tr><td>1</td><td>0.0</td></tr>\n",
       "<tr><td>1</td><td>0.0</td></tr>\n",
       "<tr><td>1</td><td>0.0</td></tr>\n",
       "<tr><td>1</td><td>0.0</td></tr>\n",
       "<tr><td>1</td><td>0.0</td></tr>\n",
       "<tr><td>2</td><td>0.0</td></tr>\n",
       "<tr><td>...</td><td>...</td></tr>\n",
       "<tr><td>27790</td><td>0.0</td></tr>\n",
       "<tr><td>27791</td><td>0.0</td></tr>\n",
       "<tr><td>27791</td><td>0.0</td></tr>\n",
       "<tr><td>27791</td><td>0.0</td></tr>\n",
       "<tr><td>27791</td><td>2.615642031589235e-05</td></tr>\n",
       "<tr><td>27791</td><td>0.0</td></tr>\n",
       "<tr><td>27791</td><td>0.0</td></tr>\n",
       "<tr><td>27791</td><td>0.0</td></tr>\n",
       "<tr><td>27791</td><td>0.0</td></tr>\n",
       "<tr><td>27791</td><td>0.0</td></tr>\n",
       "</table>"
      ],
      "text/plain": [
       "<Table length=242914>\n",
       "  n            prob        \n",
       "int64        float64       \n",
       "----- ---------------------\n",
       "    1                   0.0\n",
       "    1                   0.0\n",
       "    1                   0.0\n",
       "    1                   0.0\n",
       "    1                   0.0\n",
       "    1                   0.0\n",
       "    1                   0.0\n",
       "    1                   0.0\n",
       "    1                   0.0\n",
       "    2                   0.0\n",
       "  ...                   ...\n",
       "27790                   0.0\n",
       "27791                   0.0\n",
       "27791                   0.0\n",
       "27791                   0.0\n",
       "27791 2.615642031589235e-05\n",
       "27791                   0.0\n",
       "27791                   0.0\n",
       "27791                   0.0\n",
       "27791                   0.0\n",
       "27791                   0.0"
      ]
     },
     "execution_count": 14,
     "metadata": {},
     "output_type": "execute_result"
    }
   ],
   "source": [
    "# calculate how much local luminous mass (e.g. GLADE galaxies) could be covered by tilings\n",
    "# 1. define a PstGetGalaxies object\n",
    "from pst.pipeline.PstGetGalaxies import PstGetGalaxies\n",
    "d=PstGetGalaxies()\n",
    "d.generate(limdist=[0,100])\n",
    "\n",
    "# 2. calculation\n",
    "prob=a.calc_prob_mass(d)\n",
    "prob"
   ]
  },
  {
   "cell_type": "code",
   "execution_count": 15,
   "metadata": {},
   "outputs": [
    {
     "name": "stderr",
     "output_type": "stream",
     "text": [
      "INFO:pst.pipeline.PstGetTilings:tilings has already been parsed\n"
     ]
    }
   ],
   "source": [
    "# calculate airmass of these tilings at specific time for one telescope\n",
    "# as a test, for chilean la parma\n",
    "airmass=a.calc_airmass(obstime='2020-01-01 00:00:00', lat=None, lon=None, alt=None)"
   ]
  },
  {
   "cell_type": "code",
   "execution_count": 16,
   "metadata": {},
   "outputs": [
    {
     "name": "stderr",
     "output_type": "stream",
     "text": [
      "INFO:pst.pipeline.PstGetTilings:tilings has already been parsed\n"
     ]
    }
   ],
   "source": [
    "# calculate sun height 2 hours later\n",
    "sunh=a.calc_sun(obstime=3600*2)"
   ]
  },
  {
   "cell_type": "code",
   "execution_count": 17,
   "metadata": {},
   "outputs": [
    {
     "name": "stderr",
     "output_type": "stream",
     "text": [
      "INFO:pst.pipeline.PstGetTilings:tilings has already been parsed\n"
     ]
    }
   ],
   "source": [
    "# calculate the distance now between each tiling to a solar object,\n",
    "# e.g. moon\n",
    "moondist=a.calc_solar('moon', obstime=None)"
   ]
  },
  {
   "cell_type": "markdown",
   "metadata": {},
   "source": [
    "Instead of using the PstGetTilings default parameters or input them every time calling a method, the best approach is to configure all possible parameters (and the logger) at the very beginning"
   ]
  },
  {
   "cell_type": "code",
   "execution_count": 18,
   "metadata": {},
   "outputs": [],
   "source": [
    "# Create a logger\n",
    "import logging, os\n",
    "logpath = './'\n",
    "logger = logging.getLogger()\n",
    "logger.setLevel((logging.INFO))\n",
    "handler = logging.FileHandler(os.path.join(logpath, 'pstools_tilings.log'))\n",
    "logger.addHandler(handler)"
   ]
  },
  {
   "cell_type": "code",
   "execution_count": 19,
   "metadata": {},
   "outputs": [],
   "source": [
    "# configure parameter settings\n",
    "conf =  {\n",
    "    'limra':      [0,360.],  # `range`   [0,360.]\n",
    "    'limdec':     [-89,89],  # `range`   [-89.,89.]\n",
    "    'fovra':      1.,        # `float`   > 0\n",
    "    'fovdec':     1.,        # `float`   > 0\n",
    "    'shiftra':    0.,        # `float`   abs(shiftra) < fovra\n",
    "    'shiftdec':   0.,        # `float`   abs(shiftdec) < fovdec\n",
    "    'obra':       1,         # `int`\n",
    "    'obdec':      1,         # `int`\n",
    "    'skipfile':   None,      # `str`     options: `txt`, `npz`\n",
    "    'skipfrac':   0.,        # `float`   [0, 1]\n",
    "    'nside':      512,       # `int`     default healpix resolution\n",
    "    'nest':       False,     # `bool`  healpix map defualt ordering: nest or ring\n",
    "    'wdir':       '/tmp/',   # `str`     working directory\n",
    "    'filetype':   'npz',     # `str`     options: `txt`, `npz`\n",
    "    'filename':   'pst_tilings', # `str`     tilings file name\n",
    "                                 #           relative path, use wdir set directory\n",
    "                                 #           without suffix\n",
    "    'obstime':    None,          # `str` observing time\n",
    "    'lat':        24.625,        # la parma\n",
    "    'lon':        70.403,        # la parma\n",
    "    'alt':        2635           # la parma\n",
    "        }"
   ]
  },
  {
   "cell_type": "code",
   "execution_count": 20,
   "metadata": {},
   "outputs": [
    {
     "data": {
      "text/plain": [
       "{'limra': [0, 360.0],\n",
       " 'limdec': [-89, 89],\n",
       " 'fovra': 1.0,\n",
       " 'fovdec': 1.0,\n",
       " 'shiftra': 0.0,\n",
       " 'shiftdec': 0.0,\n",
       " 'obra': 1,\n",
       " 'obdec': 1,\n",
       " 'skipfile': None,\n",
       " 'skipfrac': 0.0,\n",
       " 'nside': 512,\n",
       " 'nest': False,\n",
       " 'wdir': '/tmp/',\n",
       " 'filetype': 'npz',\n",
       " 'filename': 'pst_tilings',\n",
       " 'obstime': None,\n",
       " 'lat': 24.625,\n",
       " 'lon': 70.403,\n",
       " 'alt': 2635}"
      ]
     },
     "execution_count": 20,
     "metadata": {},
     "output_type": "execute_result"
    }
   ],
   "source": [
    "e=PstGetTilings(defconf=conf, logger=logger)\n",
    "e.conf"
   ]
  },
  {
   "cell_type": "code",
   "execution_count": null,
   "metadata": {},
   "outputs": [],
   "source": []
  },
  {
   "cell_type": "code",
   "execution_count": null,
   "metadata": {},
   "outputs": [],
   "source": []
  },
  {
   "cell_type": "code",
   "execution_count": null,
   "metadata": {},
   "outputs": [],
   "source": []
  }
 ],
 "metadata": {
  "kernelspec": {
   "display_name": "Python [conda env:astroconda] *",
   "language": "python",
   "name": "conda-env-astroconda-py"
  },
  "language_info": {
   "codemirror_mode": {
    "name": "ipython",
    "version": 3
   },
   "file_extension": ".py",
   "mimetype": "text/x-python",
   "name": "python",
   "nbconvert_exporter": "python",
   "pygments_lexer": "ipython3",
   "version": "3.6.7"
  }
 },
 "nbformat": 4,
 "nbformat_minor": 2
}
