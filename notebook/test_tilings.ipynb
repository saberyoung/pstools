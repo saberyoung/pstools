{
 "cells": [
  {
   "cell_type": "code",
   "execution_count": 1,
   "metadata": {},
   "outputs": [],
   "source": [
    "from pst.pipeline.tilings import PstGetTilings"
   ]
  },
  {
   "cell_type": "code",
   "execution_count": 2,
   "metadata": {},
   "outputs": [],
   "source": [
    "a=PstGetTilings()"
   ]
  },
  {
   "cell_type": "code",
   "execution_count": 3,
   "metadata": {},
   "outputs": [
    {
     "data": {
      "text/plain": [
       "{'ra': None, 'dec': None, 'n': None, 'fovra': None, 'fovdec': None}"
      ]
     },
     "execution_count": 3,
     "metadata": {},
     "output_type": "execute_result"
    }
   ],
   "source": [
    "a.data"
   ]
  },
  {
   "cell_type": "code",
   "execution_count": 4,
   "metadata": {
    "scrolled": true
   },
   "outputs": [
    {
     "name": "stderr",
     "output_type": "stream",
     "text": [
      "INFO:pst.pipeline.tilings:### Warning: no pointings found\n"
     ]
    }
   ],
   "source": [
    "a.astrotab()"
   ]
  },
  {
   "cell_type": "code",
   "execution_count": 5,
   "metadata": {},
   "outputs": [],
   "source": [
    "a.generate(limra=[0,360],limdec=[-20,90],fovra=1.,fovdec=1.,shiftra=0.,shiftdec=0.)"
   ]
  },
  {
   "cell_type": "code",
   "execution_count": 6,
   "metadata": {},
   "outputs": [
    {
     "data": {
      "text/plain": [
       "{'n': array([    0,     1,     2, ..., 27788, 27789, 27790]),\n",
       " 'ra': array([  1.06418,   2.12836,   3.19253, ..., 286.53708, 315.19079,\n",
       "        343.8445 ]),\n",
       " 'dec': array([-20., -20., -20., ...,  88.,  88.,  88.]),\n",
       " 'fovra': array([1., 1., 1., ..., 1., 1., 1.]),\n",
       " 'fovdec': array([1., 1., 1., ..., 1., 1., 1.])}"
      ]
     },
     "execution_count": 6,
     "metadata": {},
     "output_type": "execute_result"
    }
   ],
   "source": [
    "a.data"
   ]
  },
  {
   "cell_type": "code",
   "execution_count": 7,
   "metadata": {
    "scrolled": true
   },
   "outputs": [
    {
     "name": "stderr",
     "output_type": "stream",
     "text": [
      "INFO:pst.pipeline.tilings:tilings has already been parsed\n"
     ]
    },
    {
     "data": {
      "text/html": [
       "<i>Table length=27791</i>\n",
       "<table id=\"table4899321672\" class=\"table-striped table-bordered table-condensed\">\n",
       "<thead><tr><th>n</th><th>ra</th><th>dec</th><th>fovra</th><th>fovdec</th></tr></thead>\n",
       "<thead><tr><th>int64</th><th>float64</th><th>float64</th><th>float64</th><th>float64</th></tr></thead>\n",
       "<tr><td>0</td><td>1.06418</td><td>-20.0</td><td>1.0</td><td>1.0</td></tr>\n",
       "<tr><td>1</td><td>2.12836</td><td>-20.0</td><td>1.0</td><td>1.0</td></tr>\n",
       "<tr><td>2</td><td>3.19253</td><td>-20.0</td><td>1.0</td><td>1.0</td></tr>\n",
       "<tr><td>3</td><td>4.25671</td><td>-20.0</td><td>1.0</td><td>1.0</td></tr>\n",
       "<tr><td>4</td><td>5.32089</td><td>-20.0</td><td>1.0</td><td>1.0</td></tr>\n",
       "<tr><td>5</td><td>6.38507</td><td>-20.0</td><td>1.0</td><td>1.0</td></tr>\n",
       "<tr><td>6</td><td>7.44924</td><td>-20.0</td><td>1.0</td><td>1.0</td></tr>\n",
       "<tr><td>7</td><td>8.51342</td><td>-20.0</td><td>1.0</td><td>1.0</td></tr>\n",
       "<tr><td>8</td><td>9.5776</td><td>-20.0</td><td>1.0</td><td>1.0</td></tr>\n",
       "<tr><td>9</td><td>10.64178</td><td>-20.0</td><td>1.0</td><td>1.0</td></tr>\n",
       "<tr><td>...</td><td>...</td><td>...</td><td>...</td><td>...</td></tr>\n",
       "<tr><td>27781</td><td>85.96113</td><td>88.0</td><td>1.0</td><td>1.0</td></tr>\n",
       "<tr><td>27782</td><td>114.61483</td><td>88.0</td><td>1.0</td><td>1.0</td></tr>\n",
       "<tr><td>27783</td><td>143.26854</td><td>88.0</td><td>1.0</td><td>1.0</td></tr>\n",
       "<tr><td>27784</td><td>171.92225</td><td>88.0</td><td>1.0</td><td>1.0</td></tr>\n",
       "<tr><td>27785</td><td>200.57596</td><td>88.0</td><td>1.0</td><td>1.0</td></tr>\n",
       "<tr><td>27786</td><td>229.22967</td><td>88.0</td><td>1.0</td><td>1.0</td></tr>\n",
       "<tr><td>27787</td><td>257.88338</td><td>88.0</td><td>1.0</td><td>1.0</td></tr>\n",
       "<tr><td>27788</td><td>286.53708</td><td>88.0</td><td>1.0</td><td>1.0</td></tr>\n",
       "<tr><td>27789</td><td>315.19079</td><td>88.0</td><td>1.0</td><td>1.0</td></tr>\n",
       "<tr><td>27790</td><td>343.8445</td><td>88.0</td><td>1.0</td><td>1.0</td></tr>\n",
       "</table>"
      ],
      "text/plain": [
       "<Table length=27791>\n",
       "  n       ra      dec    fovra   fovdec\n",
       "int64  float64  float64 float64 float64\n",
       "----- --------- ------- ------- -------\n",
       "    0   1.06418   -20.0     1.0     1.0\n",
       "    1   2.12836   -20.0     1.0     1.0\n",
       "    2   3.19253   -20.0     1.0     1.0\n",
       "    3   4.25671   -20.0     1.0     1.0\n",
       "    4   5.32089   -20.0     1.0     1.0\n",
       "    5   6.38507   -20.0     1.0     1.0\n",
       "    6   7.44924   -20.0     1.0     1.0\n",
       "    7   8.51342   -20.0     1.0     1.0\n",
       "    8    9.5776   -20.0     1.0     1.0\n",
       "    9  10.64178   -20.0     1.0     1.0\n",
       "  ...       ...     ...     ...     ...\n",
       "27781  85.96113    88.0     1.0     1.0\n",
       "27782 114.61483    88.0     1.0     1.0\n",
       "27783 143.26854    88.0     1.0     1.0\n",
       "27784 171.92225    88.0     1.0     1.0\n",
       "27785 200.57596    88.0     1.0     1.0\n",
       "27786 229.22967    88.0     1.0     1.0\n",
       "27787 257.88338    88.0     1.0     1.0\n",
       "27788 286.53708    88.0     1.0     1.0\n",
       "27789 315.19079    88.0     1.0     1.0\n",
       "27790  343.8445    88.0     1.0     1.0"
      ]
     },
     "execution_count": 7,
     "metadata": {},
     "output_type": "execute_result"
    }
   ],
   "source": [
    "a.astrotab()"
   ]
  },
  {
   "cell_type": "code",
   "execution_count": 8,
   "metadata": {},
   "outputs": [],
   "source": [
    "from pst.pipeline.triggers import PstParseTriggers"
   ]
  },
  {
   "cell_type": "code",
   "execution_count": 9,
   "metadata": {},
   "outputs": [],
   "source": [
    "b=PstParseTriggers()"
   ]
  },
  {
   "cell_type": "code",
   "execution_count": 10,
   "metadata": {},
   "outputs": [
    {
     "name": "stdout",
     "output_type": "stream",
     "text": [
      "NSIDE = 512\n",
      "ORDERING = NESTED in fits file\n",
      "INDXSCHM = IMPLICIT\n",
      "Ordering converted to RING\n",
      "Ordering converted to RING\n",
      "Ordering converted to RING\n",
      "Ordering converted to RING\n"
     ]
    }
   ],
   "source": [
    "b.url('https://gracedb.ligo.org/api/superevents/S190510g/files/bayestar.fits.gz')"
   ]
  },
  {
   "cell_type": "code",
   "execution_count": 11,
   "metadata": {},
   "outputs": [
    {
     "data": {
      "text/plain": [
       "array([1.25419392e-07, 1.62144031e-07, 1.79526856e-07, ...,\n",
       "       2.46590458e-10, 9.75865543e-10, 6.87730424e-10])"
      ]
     },
     "execution_count": 11,
     "metadata": {},
     "output_type": "execute_result"
    }
   ],
   "source": [
    "b.data['hpmap'][0]"
   ]
  },
  {
   "cell_type": "code",
   "execution_count": 12,
   "metadata": {},
   "outputs": [
    {
     "name": "stderr",
     "output_type": "stream",
     "text": [
      "INFO:pst.pipeline.tilings:tilings has already been parsed\n"
     ]
    }
   ],
   "source": [
    "prob=a.calc_prob_loc(b)"
   ]
  },
  {
   "cell_type": "code",
   "execution_count": 13,
   "metadata": {
    "scrolled": true
   },
   "outputs": [
    {
     "data": {
      "text/html": [
       "<i>Table length=27791</i>\n",
       "<table id=\"table4903703272\" class=\"table-striped table-bordered table-condensed\">\n",
       "<thead><tr><th>n</th><th>prob</th></tr></thead>\n",
       "<thead><tr><th>int64</th><th>float64</th></tr></thead>\n",
       "<tr><td>0</td><td>7.762505447792172e-05</td></tr>\n",
       "<tr><td>1</td><td>0.00012162028911602872</td></tr>\n",
       "<tr><td>2</td><td>0.00018488661247951556</td></tr>\n",
       "<tr><td>3</td><td>0.00027625315863596554</td></tr>\n",
       "<tr><td>4</td><td>0.00038066692835706515</td></tr>\n",
       "<tr><td>5</td><td>0.0004793012342172087</td></tr>\n",
       "<tr><td>6</td><td>0.0005629543081437528</td></tr>\n",
       "<tr><td>7</td><td>0.0006256609931332212</td></tr>\n",
       "<tr><td>8</td><td>0.0006782250883419683</td></tr>\n",
       "<tr><td>9</td><td>0.0005599687530534132</td></tr>\n",
       "<tr><td>...</td><td>...</td></tr>\n",
       "<tr><td>27781</td><td>7.765044427002605e-06</td></tr>\n",
       "<tr><td>27782</td><td>1.0692238193097823e-05</td></tr>\n",
       "<tr><td>27783</td><td>1.2511435412197865e-05</td></tr>\n",
       "<tr><td>27784</td><td>1.3244990370456746e-05</td></tr>\n",
       "<tr><td>27785</td><td>1.3703530269145885e-05</td></tr>\n",
       "<tr><td>27786</td><td>1.3517874076051426e-05</td></tr>\n",
       "<tr><td>27787</td><td>1.2687796993406217e-05</td></tr>\n",
       "<tr><td>27788</td><td>1.6181818795770013e-05</td></tr>\n",
       "<tr><td>27789</td><td>1.5537190545016493e-05</td></tr>\n",
       "<tr><td>27790</td><td>1.5394664113960722e-05</td></tr>\n",
       "</table>"
      ],
      "text/plain": [
       "<Table length=27791>\n",
       "  n            prob         \n",
       "int64        float64        \n",
       "----- ----------------------\n",
       "    0  7.762505447792172e-05\n",
       "    1 0.00012162028911602872\n",
       "    2 0.00018488661247951556\n",
       "    3 0.00027625315863596554\n",
       "    4 0.00038066692835706515\n",
       "    5  0.0004793012342172087\n",
       "    6  0.0005629543081437528\n",
       "    7  0.0006256609931332212\n",
       "    8  0.0006782250883419683\n",
       "    9  0.0005599687530534132\n",
       "  ...                    ...\n",
       "27781  7.765044427002605e-06\n",
       "27782 1.0692238193097823e-05\n",
       "27783 1.2511435412197865e-05\n",
       "27784 1.3244990370456746e-05\n",
       "27785 1.3703530269145885e-05\n",
       "27786 1.3517874076051426e-05\n",
       "27787 1.2687796993406217e-05\n",
       "27788 1.6181818795770013e-05\n",
       "27789 1.5537190545016493e-05\n",
       "27790 1.5394664113960722e-05"
      ]
     },
     "execution_count": 13,
     "metadata": {},
     "output_type": "execute_result"
    }
   ],
   "source": [
    "prob"
   ]
  },
  {
   "cell_type": "code",
   "execution_count": 14,
   "metadata": {},
   "outputs": [
    {
     "name": "stderr",
     "output_type": "stream",
     "text": [
      "INFO:pst.pipeline.tilings:tilings has already been parsed\n"
     ]
    }
   ],
   "source": [
    "a.remove_fileds_coo([10], [10], [10], [10], skipfrac=0)"
   ]
  },
  {
   "cell_type": "code",
   "execution_count": 15,
   "metadata": {},
   "outputs": [
    {
     "name": "stderr",
     "output_type": "stream",
     "text": [
      "INFO:pst.pipeline.tilings:tilings has already been parsed\n"
     ]
    },
    {
     "data": {
      "text/html": [
       "<i>Table length=27670</i>\n",
       "<table id=\"table4427578728\" class=\"table-striped table-bordered table-condensed\">\n",
       "<thead><tr><th>n</th><th>ra</th><th>dec</th><th>fovra</th><th>fovdec</th></tr></thead>\n",
       "<thead><tr><th>int64</th><th>float64</th><th>float64</th><th>float64</th><th>float64</th></tr></thead>\n",
       "<tr><td>0</td><td>1.06418</td><td>-20.0</td><td>1.0</td><td>1.0</td></tr>\n",
       "<tr><td>1</td><td>2.12836</td><td>-20.0</td><td>1.0</td><td>1.0</td></tr>\n",
       "<tr><td>2</td><td>3.19253</td><td>-20.0</td><td>1.0</td><td>1.0</td></tr>\n",
       "<tr><td>3</td><td>4.25671</td><td>-20.0</td><td>1.0</td><td>1.0</td></tr>\n",
       "<tr><td>4</td><td>5.32089</td><td>-20.0</td><td>1.0</td><td>1.0</td></tr>\n",
       "<tr><td>5</td><td>6.38507</td><td>-20.0</td><td>1.0</td><td>1.0</td></tr>\n",
       "<tr><td>6</td><td>7.44924</td><td>-20.0</td><td>1.0</td><td>1.0</td></tr>\n",
       "<tr><td>7</td><td>8.51342</td><td>-20.0</td><td>1.0</td><td>1.0</td></tr>\n",
       "<tr><td>8</td><td>9.5776</td><td>-20.0</td><td>1.0</td><td>1.0</td></tr>\n",
       "<tr><td>9</td><td>10.64178</td><td>-20.0</td><td>1.0</td><td>1.0</td></tr>\n",
       "<tr><td>...</td><td>...</td><td>...</td><td>...</td><td>...</td></tr>\n",
       "<tr><td>27781</td><td>85.96113</td><td>88.0</td><td>1.0</td><td>1.0</td></tr>\n",
       "<tr><td>27782</td><td>114.61483</td><td>88.0</td><td>1.0</td><td>1.0</td></tr>\n",
       "<tr><td>27783</td><td>143.26854</td><td>88.0</td><td>1.0</td><td>1.0</td></tr>\n",
       "<tr><td>27784</td><td>171.92225</td><td>88.0</td><td>1.0</td><td>1.0</td></tr>\n",
       "<tr><td>27785</td><td>200.57596</td><td>88.0</td><td>1.0</td><td>1.0</td></tr>\n",
       "<tr><td>27786</td><td>229.22967</td><td>88.0</td><td>1.0</td><td>1.0</td></tr>\n",
       "<tr><td>27787</td><td>257.88338</td><td>88.0</td><td>1.0</td><td>1.0</td></tr>\n",
       "<tr><td>27788</td><td>286.53708</td><td>88.0</td><td>1.0</td><td>1.0</td></tr>\n",
       "<tr><td>27789</td><td>315.19079</td><td>88.0</td><td>1.0</td><td>1.0</td></tr>\n",
       "<tr><td>27790</td><td>343.8445</td><td>88.0</td><td>1.0</td><td>1.0</td></tr>\n",
       "</table>"
      ],
      "text/plain": [
       "<Table length=27670>\n",
       "  n       ra      dec    fovra   fovdec\n",
       "int64  float64  float64 float64 float64\n",
       "----- --------- ------- ------- -------\n",
       "    0   1.06418   -20.0     1.0     1.0\n",
       "    1   2.12836   -20.0     1.0     1.0\n",
       "    2   3.19253   -20.0     1.0     1.0\n",
       "    3   4.25671   -20.0     1.0     1.0\n",
       "    4   5.32089   -20.0     1.0     1.0\n",
       "    5   6.38507   -20.0     1.0     1.0\n",
       "    6   7.44924   -20.0     1.0     1.0\n",
       "    7   8.51342   -20.0     1.0     1.0\n",
       "    8    9.5776   -20.0     1.0     1.0\n",
       "    9  10.64178   -20.0     1.0     1.0\n",
       "  ...       ...     ...     ...     ...\n",
       "27781  85.96113    88.0     1.0     1.0\n",
       "27782 114.61483    88.0     1.0     1.0\n",
       "27783 143.26854    88.0     1.0     1.0\n",
       "27784 171.92225    88.0     1.0     1.0\n",
       "27785 200.57596    88.0     1.0     1.0\n",
       "27786 229.22967    88.0     1.0     1.0\n",
       "27787 257.88338    88.0     1.0     1.0\n",
       "27788 286.53708    88.0     1.0     1.0\n",
       "27789 315.19079    88.0     1.0     1.0\n",
       "27790  343.8445    88.0     1.0     1.0"
      ]
     },
     "execution_count": 15,
     "metadata": {},
     "output_type": "execute_result"
    }
   ],
   "source": [
    "a.astrotab()"
   ]
  },
  {
   "cell_type": "code",
   "execution_count": 16,
   "metadata": {},
   "outputs": [
    {
     "name": "stderr",
     "output_type": "stream",
     "text": [
      "INFO:pst.pipeline.tilings:tilings has already been parsed\n"
     ]
    },
    {
     "data": {
      "text/html": [
       "<i>Table length=27670</i>\n",
       "<table id=\"table4856495408\" class=\"table-striped table-bordered table-condensed\">\n",
       "<thead><tr><th>n</th><th>airmass</th></tr></thead>\n",
       "<thead><tr><th></th><th></th></tr></thead>\n",
       "<thead><tr><th>int64</th><th>float64</th></tr></thead>\n",
       "<tr><td>0</td><td>-5.190624242970908</td></tr>\n",
       "<tr><td>1</td><td>-5.65584174032291</td></tr>\n",
       "<tr><td>2</td><td>-6.2131112635166845</td></tr>\n",
       "<tr><td>3</td><td>-6.892507527172579</td></tr>\n",
       "<tr><td>4</td><td>-7.738780431644733</td></tr>\n",
       "<tr><td>5</td><td>-8.821595633886806</td></tr>\n",
       "<tr><td>6</td><td>-10.25564754947578</td></tr>\n",
       "<tr><td>7</td><td>-12.24414023287965</td></tr>\n",
       "<tr><td>8</td><td>-15.184368823412473</td></tr>\n",
       "<tr><td>...</td><td>...</td></tr>\n",
       "<tr><td>27781</td><td>2.2324644199948978</td></tr>\n",
       "<tr><td>27782</td><td>2.2404913850078163</td></tr>\n",
       "<tr><td>27783</td><td>2.2860626213470905</td></tr>\n",
       "<tr><td>27784</td><td>2.361705848037583</td></tr>\n",
       "<tr><td>27785</td><td>2.452600155522884</td></tr>\n",
       "<tr><td>27786</td><td>2.5367820896183795</td></tr>\n",
       "<tr><td>27787</td><td>2.5896960094744</td></tr>\n",
       "<tr><td>27788</td><td>2.593765291848692</td></tr>\n",
       "<tr><td>27789</td><td>2.5475683383195054</td></tr>\n",
       "<tr><td>27790</td><td>2.466655804163954</td></tr>\n",
       "</table>"
      ],
      "text/plain": [
       "<Table length=27670>\n",
       "  n         airmass      \n",
       "                         \n",
       "int64       float64      \n",
       "----- -------------------\n",
       "    0  -5.190624242970908\n",
       "    1   -5.65584174032291\n",
       "    2 -6.2131112635166845\n",
       "    3  -6.892507527172579\n",
       "    4  -7.738780431644733\n",
       "    5  -8.821595633886806\n",
       "    6  -10.25564754947578\n",
       "    7  -12.24414023287965\n",
       "    8 -15.184368823412473\n",
       "  ...                 ...\n",
       "27781  2.2324644199948978\n",
       "27782  2.2404913850078163\n",
       "27783  2.2860626213470905\n",
       "27784   2.361705848037583\n",
       "27785   2.452600155522884\n",
       "27786  2.5367820896183795\n",
       "27787     2.5896960094744\n",
       "27788   2.593765291848692\n",
       "27789  2.5475683383195054\n",
       "27790   2.466655804163954"
      ]
     },
     "execution_count": 16,
     "metadata": {},
     "output_type": "execute_result"
    }
   ],
   "source": [
    "a.calc_airmass(obstime=None)"
   ]
  },
  {
   "cell_type": "code",
   "execution_count": 17,
   "metadata": {},
   "outputs": [
    {
     "name": "stderr",
     "output_type": "stream",
     "text": [
      "INFO:pst.pipeline.tilings:tilings has already been parsed\n"
     ]
    },
    {
     "data": {
      "text/latex": [
       "$-81^\\circ21{}^\\prime49.2184{}^{\\prime\\prime}$"
      ],
      "text/plain": [
       "<Latitude -81.36367179 deg>"
      ]
     },
     "execution_count": 17,
     "metadata": {},
     "output_type": "execute_result"
    }
   ],
   "source": [
    "a.calc_sun(obstime=None)"
   ]
  },
  {
   "cell_type": "code",
   "execution_count": 18,
   "metadata": {},
   "outputs": [
    {
     "name": "stderr",
     "output_type": "stream",
     "text": [
      "INFO:pst.pipeline.tilings:tilings has already been parsed\n"
     ]
    },
    {
     "data": {
      "text/html": [
       "<i>Table length=27670</i>\n",
       "<table id=\"table5053386592\" class=\"table-striped table-bordered table-condensed\">\n",
       "<thead><tr><th>n</th><th>dist</th></tr></thead>\n",
       "<thead><tr><th></th><th>deg</th></tr></thead>\n",
       "<thead><tr><th>int64</th><th>float64</th></tr></thead>\n",
       "<tr><td>0</td><td>108.73228939190567</td></tr>\n",
       "<tr><td>1</td><td>107.7831186623702</td></tr>\n",
       "<tr><td>2</td><td>106.83540794102855</td></tr>\n",
       "<tr><td>3</td><td>105.88918428241325</td></tr>\n",
       "<tr><td>4</td><td>104.94450286557782</td></tr>\n",
       "<tr><td>5</td><td>104.00141142043543</td></tr>\n",
       "<tr><td>6</td><td>103.05996804468201</td></tr>\n",
       "<tr><td>7</td><td>102.12020590036668</td></tr>\n",
       "<tr><td>8</td><td>101.18218636609147</td></tr>\n",
       "<tr><td>...</td><td>...</td></tr>\n",
       "<tr><td>27781</td><td>65.26312922782651</td></tr>\n",
       "<tr><td>27782</td><td>65.20456394691404</td></tr>\n",
       "<tr><td>27783</td><td>65.63336518718364</td></tr>\n",
       "<tr><td>27784</td><td>66.44048882112152</td></tr>\n",
       "<tr><td>27785</td><td>67.42361975068624</td></tr>\n",
       "<tr><td>27786</td><td>68.34106736170196</td></tr>\n",
       "<tr><td>27787</td><td>68.97147584281457</td></tr>\n",
       "<tr><td>27788</td><td>69.1648300185788</td></tr>\n",
       "<tr><td>27789</td><td>68.87543085216024</td></tr>\n",
       "<tr><td>27790</td><td>68.17173058218783</td></tr>\n",
       "</table>"
      ],
      "text/plain": [
       "<Table length=27670>\n",
       "  n          dist       \n",
       "             deg        \n",
       "int64      float64      \n",
       "----- ------------------\n",
       "    0 108.73228939190567\n",
       "    1  107.7831186623702\n",
       "    2 106.83540794102855\n",
       "    3 105.88918428241325\n",
       "    4 104.94450286557782\n",
       "    5 104.00141142043543\n",
       "    6 103.05996804468201\n",
       "    7 102.12020590036668\n",
       "    8 101.18218636609147\n",
       "  ...                ...\n",
       "27781  65.26312922782651\n",
       "27782  65.20456394691404\n",
       "27783  65.63336518718364\n",
       "27784  66.44048882112152\n",
       "27785  67.42361975068624\n",
       "27786  68.34106736170196\n",
       "27787  68.97147584281457\n",
       "27788   69.1648300185788\n",
       "27789  68.87543085216024\n",
       "27790  68.17173058218783"
      ]
     },
     "execution_count": 18,
     "metadata": {},
     "output_type": "execute_result"
    }
   ],
   "source": [
    "a.calc_solar('moon', obstime=None)"
   ]
  },
  {
   "cell_type": "code",
   "execution_count": 19,
   "metadata": {},
   "outputs": [
    {
     "name": "stderr",
     "output_type": "stream",
     "text": [
      "INFO:pst.pipeline.tilings:tilings has already been parsed\n"
     ]
    }
   ],
   "source": [
    "a.divide_OB(nobw=3, nobh=3)"
   ]
  },
  {
   "cell_type": "code",
   "execution_count": 20,
   "metadata": {},
   "outputs": [
    {
     "name": "stderr",
     "output_type": "stream",
     "text": [
      "INFO:pst.pipeline.tilings:tilings has already been parsed\n"
     ]
    },
    {
     "data": {
      "text/html": [
       "<i>Table length=249030</i>\n",
       "<table id=\"table5053341992\" class=\"table-striped table-bordered table-condensed\">\n",
       "<thead><tr><th>n</th><th>ra</th><th>dec</th><th>fovra</th><th>fovdec</th></tr></thead>\n",
       "<thead><tr><th>int64</th><th>float64</th><th>float64</th><th>float64</th><th>float64</th></tr></thead>\n",
       "<tr><td>1</td><td>-0.00696</td><td>-21.0</td><td>0.33333</td><td>0.33333</td></tr>\n",
       "<tr><td>1</td><td>1.06418</td><td>-21.0</td><td>0.33333</td><td>0.33333</td></tr>\n",
       "<tr><td>1</td><td>2.13532</td><td>-21.0</td><td>0.33333</td><td>0.33333</td></tr>\n",
       "<tr><td>1</td><td>0.0</td><td>-20.0</td><td>0.33333</td><td>0.33333</td></tr>\n",
       "<tr><td>1</td><td>1.06418</td><td>-20.0</td><td>0.33333</td><td>0.33333</td></tr>\n",
       "<tr><td>1</td><td>2.12836</td><td>-20.0</td><td>0.33333</td><td>0.33333</td></tr>\n",
       "<tr><td>1</td><td>0.00656</td><td>-19.0</td><td>0.33333</td><td>0.33333</td></tr>\n",
       "<tr><td>1</td><td>1.06418</td><td>-19.0</td><td>0.33333</td><td>0.33333</td></tr>\n",
       "<tr><td>1</td><td>2.1218</td><td>-19.0</td><td>0.33333</td><td>0.33333</td></tr>\n",
       "<tr><td>2</td><td>1.05722</td><td>-21.0</td><td>0.33333</td><td>0.33333</td></tr>\n",
       "<tr><td>...</td><td>...</td><td>...</td><td>...</td><td>...</td></tr>\n",
       "<tr><td>27669</td><td>372.48948</td><td>89.0</td><td>0.33333</td><td>0.33333</td></tr>\n",
       "<tr><td>27670</td><td>324.73718</td><td>87.0</td><td>0.33333</td><td>0.33333</td></tr>\n",
       "<tr><td>27670</td><td>343.8445</td><td>87.0</td><td>0.33333</td><td>0.33333</td></tr>\n",
       "<tr><td>27670</td><td>362.95182</td><td>87.0</td><td>0.33333</td><td>0.33333</td></tr>\n",
       "<tr><td>27670</td><td>315.19079</td><td>88.0</td><td>0.33333</td><td>0.33333</td></tr>\n",
       "<tr><td>27670</td><td>343.8445</td><td>88.0</td><td>0.33333</td><td>0.33333</td></tr>\n",
       "<tr><td>27670</td><td>372.49821</td><td>88.0</td><td>0.33333</td><td>0.33333</td></tr>\n",
       "<tr><td>27670</td><td>286.54581</td><td>89.0</td><td>0.33333</td><td>0.33333</td></tr>\n",
       "<tr><td>27670</td><td>343.8445</td><td>89.0</td><td>0.33333</td><td>0.33333</td></tr>\n",
       "<tr><td>27670</td><td>401.14319</td><td>89.0</td><td>0.33333</td><td>0.33333</td></tr>\n",
       "</table>"
      ],
      "text/plain": [
       "<Table length=249030>\n",
       "  n       ra      dec    fovra   fovdec\n",
       "int64  float64  float64 float64 float64\n",
       "----- --------- ------- ------- -------\n",
       "    1  -0.00696   -21.0 0.33333 0.33333\n",
       "    1   1.06418   -21.0 0.33333 0.33333\n",
       "    1   2.13532   -21.0 0.33333 0.33333\n",
       "    1       0.0   -20.0 0.33333 0.33333\n",
       "    1   1.06418   -20.0 0.33333 0.33333\n",
       "    1   2.12836   -20.0 0.33333 0.33333\n",
       "    1   0.00656   -19.0 0.33333 0.33333\n",
       "    1   1.06418   -19.0 0.33333 0.33333\n",
       "    1    2.1218   -19.0 0.33333 0.33333\n",
       "    2   1.05722   -21.0 0.33333 0.33333\n",
       "  ...       ...     ...     ...     ...\n",
       "27669 372.48948    89.0 0.33333 0.33333\n",
       "27670 324.73718    87.0 0.33333 0.33333\n",
       "27670  343.8445    87.0 0.33333 0.33333\n",
       "27670 362.95182    87.0 0.33333 0.33333\n",
       "27670 315.19079    88.0 0.33333 0.33333\n",
       "27670  343.8445    88.0 0.33333 0.33333\n",
       "27670 372.49821    88.0 0.33333 0.33333\n",
       "27670 286.54581    89.0 0.33333 0.33333\n",
       "27670  343.8445    89.0 0.33333 0.33333\n",
       "27670 401.14319    89.0 0.33333 0.33333"
      ]
     },
     "execution_count": 20,
     "metadata": {},
     "output_type": "execute_result"
    }
   ],
   "source": [
    "a.astrotab()"
   ]
  },
  {
   "cell_type": "code",
   "execution_count": 21,
   "metadata": {},
   "outputs": [
    {
     "name": "stderr",
     "output_type": "stream",
     "text": [
      "INFO:keyring.backend:Loading KWallet\n",
      "INFO:keyring.backend:Loading SecretService\n",
      "INFO:keyring.backend:Loading Windows\n",
      "INFO:keyring.backend:Loading chainer\n",
      "INFO:keyring.backend:Loading macOS\n",
      "INFO:pst.pipeline.galaxies:3778 galaxies selected from VII/281\n",
      "INFO:pst.pipeline.tilings:tilings has already been parsed\n",
      "INFO:pst.pipeline.galaxies:galaxies has already been parsed\n"
     ]
    }
   ],
   "source": [
    "from pst.pipeline.galaxies import PstGetGalaxies\n",
    "c=PstGetGalaxies()\n",
    "c.generate(limdist=[0,40])\n",
    "d=a.calc_prob_mass(c, nside=None, nest=None)"
   ]
  },
  {
   "cell_type": "code",
   "execution_count": 22,
   "metadata": {},
   "outputs": [
    {
     "data": {
      "text/html": [
       "<i>Table length=249030</i>\n",
       "<table id=\"table5126069944\" class=\"table-striped table-bordered table-condensed\">\n",
       "<thead><tr><th>n</th><th>prob</th></tr></thead>\n",
       "<thead><tr><th>int64</th><th>float64</th></tr></thead>\n",
       "<tr><td>1</td><td>0.0</td></tr>\n",
       "<tr><td>1</td><td>0.0</td></tr>\n",
       "<tr><td>1</td><td>0.0</td></tr>\n",
       "<tr><td>1</td><td>0.0</td></tr>\n",
       "<tr><td>1</td><td>0.0</td></tr>\n",
       "<tr><td>1</td><td>0.0</td></tr>\n",
       "<tr><td>1</td><td>0.0</td></tr>\n",
       "<tr><td>1</td><td>0.0</td></tr>\n",
       "<tr><td>1</td><td>0.0</td></tr>\n",
       "<tr><td>2</td><td>0.0</td></tr>\n",
       "<tr><td>...</td><td>...</td></tr>\n",
       "<tr><td>27669</td><td>0.0</td></tr>\n",
       "<tr><td>27670</td><td>0.0</td></tr>\n",
       "<tr><td>27670</td><td>0.0</td></tr>\n",
       "<tr><td>27670</td><td>0.0</td></tr>\n",
       "<tr><td>27670</td><td>0.0</td></tr>\n",
       "<tr><td>27670</td><td>0.0</td></tr>\n",
       "<tr><td>27670</td><td>0.0</td></tr>\n",
       "<tr><td>27670</td><td>0.0</td></tr>\n",
       "<tr><td>27670</td><td>0.0</td></tr>\n",
       "<tr><td>27670</td><td>0.0</td></tr>\n",
       "</table>"
      ],
      "text/plain": [
       "<Table length=249030>\n",
       "  n     prob \n",
       "int64 float64\n",
       "----- -------\n",
       "    1     0.0\n",
       "    1     0.0\n",
       "    1     0.0\n",
       "    1     0.0\n",
       "    1     0.0\n",
       "    1     0.0\n",
       "    1     0.0\n",
       "    1     0.0\n",
       "    1     0.0\n",
       "    2     0.0\n",
       "  ...     ...\n",
       "27669     0.0\n",
       "27670     0.0\n",
       "27670     0.0\n",
       "27670     0.0\n",
       "27670     0.0\n",
       "27670     0.0\n",
       "27670     0.0\n",
       "27670     0.0\n",
       "27670     0.0\n",
       "27670     0.0"
      ]
     },
     "execution_count": 22,
     "metadata": {},
     "output_type": "execute_result"
    }
   ],
   "source": [
    "d"
   ]
  },
  {
   "cell_type": "code",
   "execution_count": null,
   "metadata": {},
   "outputs": [],
   "source": []
  }
 ],
 "metadata": {
  "kernelspec": {
   "display_name": "Python [conda env:astroconda] *",
   "language": "python",
   "name": "conda-env-astroconda-py"
  },
  "language_info": {
   "codemirror_mode": {
    "name": "ipython",
    "version": 3
   },
   "file_extension": ".py",
   "mimetype": "text/x-python",
   "name": "python",
   "nbconvert_exporter": "python",
   "pygments_lexer": "ipython3",
   "version": "3.6.7"
  }
 },
 "nbformat": 4,
 "nbformat_minor": 2
}
