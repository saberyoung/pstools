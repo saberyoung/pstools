{
 "cells": [
  {
   "cell_type": "markdown",
   "metadata": {},
   "source": [
    "# some examples to use pst.PstParseTriggers"
   ]
  },
  {
   "cell_type": "markdown",
   "metadata": {},
   "source": [
    "import module"
   ]
  },
  {
   "cell_type": "code",
   "execution_count": 1,
   "metadata": {},
   "outputs": [],
   "source": [
    "from pst.pipeline.triggers import PstParseTriggers"
   ]
  },
  {
   "cell_type": "markdown",
   "metadata": {},
   "source": [
    "initialize a new trigger object, a"
   ]
  },
  {
   "cell_type": "code",
   "execution_count": 2,
   "metadata": {},
   "outputs": [],
   "source": [
    "a=PstParseTriggers()"
   ]
  },
  {
   "cell_type": "code",
   "execution_count": 3,
   "metadata": {},
   "outputs": [
    {
     "data": {
      "text/plain": [
       "<pst.pipeline.triggers.PstParseTriggers at 0x1087d7748>"
      ]
     },
     "execution_count": 3,
     "metadata": {},
     "output_type": "execute_result"
    }
   ],
   "source": [
    "a"
   ]
  },
  {
   "cell_type": "markdown",
   "metadata": {},
   "source": [
    "there're 3 attributes: healpix map, header, and xml informations (only if source was xml or root)"
   ]
  },
  {
   "cell_type": "code",
   "execution_count": 4,
   "metadata": {},
   "outputs": [
    {
     "data": {
      "text/plain": [
       "{'hpmap': None, 'xmlinf': None, 'fithdr': None}"
      ]
     },
     "execution_count": 4,
     "metadata": {},
     "output_type": "execute_result"
    }
   ],
   "source": [
    "a.data_list()"
   ]
  },
  {
   "cell_type": "markdown",
   "metadata": {},
   "source": [
    "obtain trigger informations from one source (url, fits, xml, root, coo)"
   ]
  },
  {
   "cell_type": "markdown",
   "metadata": {},
   "source": [
    "here, try url source: url(self, url, wdir=None, savefits=None)"
   ]
  },
  {
   "cell_type": "code",
   "execution_count": 5,
   "metadata": {},
   "outputs": [
    {
     "name": "stdout",
     "output_type": "stream",
     "text": [
      "NSIDE = 512\n",
      "ORDERING = NESTED in fits file\n",
      "INDXSCHM = IMPLICIT\n",
      "Ordering converted to RING\n",
      "Ordering converted to RING\n",
      "Ordering converted to RING\n",
      "Ordering converted to RING\n"
     ]
    }
   ],
   "source": [
    "a.url('https://gracedb.ligo.org/api/superevents/S190510g/files/bayestar.fits.gz')"
   ]
  },
  {
   "cell_type": "markdown",
   "metadata": {},
   "source": [
    "show trigger attributes again"
   ]
  },
  {
   "cell_type": "code",
   "execution_count": 6,
   "metadata": {},
   "outputs": [
    {
     "data": {
      "text/plain": [
       "{'hpmap': array([[1.25419392e-07, 1.62144031e-07, 1.79526856e-07, ...,\n",
       "         2.46590458e-10, 9.75865543e-10, 6.87730424e-10],\n",
       "        [1.44844886e+02, 1.54923595e+02, 1.40961397e+02, ...,\n",
       "         2.72896179e+02, 2.21541076e+02, 2.82526517e+02],\n",
       "        [1.41256230e+02, 1.39624119e+02, 1.41143310e+02, ...,\n",
       "         1.68491517e+02, 1.68595934e+02, 1.55918798e+02],\n",
       "        [2.53084235e-05, 2.36136978e-05, 2.61189424e-05, ...,\n",
       "         9.76686037e-06, 1.30767396e-05, 9.62544372e-06]]),\n",
       " 'xmlinf': None,\n",
       " 'fithdr': {'XTENSION': 'BINTABLE',\n",
       "  'BITPIX': 8,\n",
       "  'NAXIS': 2,\n",
       "  'NAXIS1': 32,\n",
       "  'NAXIS2': 3145728,\n",
       "  'PCOUNT': 0,\n",
       "  'GCOUNT': 1,\n",
       "  'TFIELDS': 4,\n",
       "  'TTYPE1': 'PROB',\n",
       "  'TFORM1': 'D',\n",
       "  'TUNIT1': 'pix-1',\n",
       "  'TTYPE2': 'DISTMU',\n",
       "  'TFORM2': 'D',\n",
       "  'TUNIT2': 'Mpc',\n",
       "  'TTYPE3': 'DISTSIGMA',\n",
       "  'TFORM3': 'D',\n",
       "  'TUNIT3': 'Mpc',\n",
       "  'TTYPE4': 'DISTNORM',\n",
       "  'TFORM4': 'D',\n",
       "  'TUNIT4': 'Mpc-2',\n",
       "  'MOC': True,\n",
       "  'PIXTYPE': 'HEALPIX',\n",
       "  'ORDERING': 'NESTED',\n",
       "  'COORDSYS': 'C',\n",
       "  'NSIDE': 512,\n",
       "  'INDXSCHM': 'IMPLICIT',\n",
       "  'OBJECT': 'G331903',\n",
       "  'REFERENC': 'https://gracedb.ligo.org/events/G331903',\n",
       "  'INSTRUME': 'H1,L1,V1',\n",
       "  'DATE-OBS': '2019-05-10T02:59:39.292500',\n",
       "  'MJD-OBS': 58613.12476032978,\n",
       "  'DATE': '2019-05-10T03:00:47.000000',\n",
       "  'CREATOR': 'BAYESTAR',\n",
       "  'ORIGIN': 'LIGO/Virgo',\n",
       "  'RUNTIME': 18.0,\n",
       "  'DISTMEAN': 268.8566049372629,\n",
       "  'DISTSTD': 108.0709050006497,\n",
       "  'LOGBCI': 0.6949211109947058,\n",
       "  'LOGBSN': 7.032293281836687,\n",
       "  'VCSVERS': 'ligo.skymap 0.1.6',\n",
       "  'VCSREV': '79504ec9fb1890fa91665bd69d7aa66cdaf11184',\n",
       "  'DATE-BLD': '2019-03-26T18:11:21',\n",
       "  'HISTORY': 'gwcelery worker -l info -n gwcelery-openmp-worker -Q openmp -c 1'}}"
      ]
     },
     "execution_count": 6,
     "metadata": {},
     "output_type": "execute_result"
    }
   ],
   "source": [
    "a.data_list()"
   ]
  },
  {
   "cell_type": "markdown",
   "metadata": {},
   "source": [
    "now, make a summary report for trigger a, since it's coming from healpix fits, there would be no informations from voevent xml"
   ]
  },
  {
   "cell_type": "code",
   "execution_count": 7,
   "metadata": {},
   "outputs": [
    {
     "name": "stderr",
     "output_type": "stream",
     "text": [
      "INFO:pst.pipeline.triggers:### Warning: no GraceID found in voevent\n",
      "INFO:pst.pipeline.triggers:### Warning: no AlertType found in voevent\n",
      "INFO:pst.pipeline.triggers:### Warning: no Group found in voevent\n",
      "INFO:pst.pipeline.triggers:### Warning: no FAR found in voevent\n",
      "INFO:pst.pipeline.triggers:### Warning: no Terrestrial found in voevent\n",
      "INFO:pst.pipeline.triggers:### Warning: no HasNS found in voevent\n",
      "INFO:pst.pipeline.triggers:### Warning: no HasRemnant found in voevent\n",
      "INFO:pst.pipeline.triggers:### Warning: no BNS found in voevent\n",
      "INFO:pst.pipeline.triggers:### Warning: no BBH found in voevent\n",
      "INFO:pst.pipeline.triggers:### Warning: no NSBH found in voevent\n",
      "INFO:pst.pipeline.triggers:### Warning: no Instruments found in voevent\n",
      "INFO:pst.pipeline.triggers:### Warning: no EventPage found in voevent\n"
     ]
    },
    {
     "data": {
      "text/plain": [
       "'DISTMEAN:268.8566049372629 DISTSTD:108.0709050006497 DATE-OBS:2019-05-10T02:59:39.292500 MJD-OBS:58613.12476032978 OBJECT:G331903 INSTRUME:H1,L1,V1 CREATOR:BAYESTAR '"
      ]
     },
     "execution_count": 7,
     "metadata": {},
     "output_type": "execute_result"
    }
   ],
   "source": [
    "a.make_report()"
   ]
  },
  {
   "cell_type": "markdown",
   "metadata": {},
   "source": [
    "then, estimate the area of trigger in different confidence level"
   ]
  },
  {
   "cell_type": "code",
   "execution_count": 8,
   "metadata": {},
   "outputs": [
    {
     "name": "stderr",
     "output_type": "stream",
     "text": [
      "INFO:pst.pipeline.triggers:hpmap has already been parsed\n"
     ]
    },
    {
     "data": {
      "text/plain": [
       "{0.5: 575.5456172035578, 0.9: 3463.7648737864856}"
      ]
     },
     "execution_count": 8,
     "metadata": {},
     "output_type": "execute_result"
    }
   ],
   "source": [
    "a.calc_area()"
   ]
  },
  {
   "cell_type": "code",
   "execution_count": 9,
   "metadata": {},
   "outputs": [
    {
     "name": "stderr",
     "output_type": "stream",
     "text": [
      "INFO:pst.pipeline.triggers:hpmap has already been parsed\n"
     ]
    },
    {
     "data": {
      "text/plain": [
       "{0.1: 36.351906008208665,\n",
       " 0.5: 575.5456172035578,\n",
       " 0.9: 3463.7648737864856,\n",
       " 0.99: 11508.39446313552}"
      ]
     },
     "execution_count": 9,
     "metadata": {},
     "output_type": "execute_result"
    }
   ],
   "source": [
    "a.calc_area(cls=[.1,.5,.9,.99])"
   ]
  },
  {
   "cell_type": "markdown",
   "metadata": {},
   "source": [
    "since now a is already occupied by one source, now it's not allowed to inject again a new source. in order to do so, one need to first remove the source there"
   ]
  },
  {
   "cell_type": "code",
   "execution_count": 10,
   "metadata": {},
   "outputs": [],
   "source": [
    "a.resetall()"
   ]
  },
  {
   "cell_type": "code",
   "execution_count": 11,
   "metadata": {},
   "outputs": [
    {
     "data": {
      "text/plain": [
       "{'hpmap': None, 'xmlinf': None, 'fithdr': None}"
      ]
     },
     "execution_count": 11,
     "metadata": {},
     "output_type": "execute_result"
    }
   ],
   "source": [
    "a.data_list()"
   ]
  },
  {
   "cell_type": "code",
   "execution_count": 12,
   "metadata": {},
   "outputs": [
    {
     "name": "stdout",
     "output_type": "stream",
     "text": [
      "NSIDE = 512\n",
      "ORDERING = NESTED in fits file\n",
      "INDXSCHM = IMPLICIT\n",
      "Ordering converted to RING\n",
      "Ordering converted to RING\n",
      "Ordering converted to RING\n",
      "Ordering converted to RING\n"
     ]
    }
   ],
   "source": [
    "a.fits('LVC#S190510g-2-Initial_bayestar.fits.gz')"
   ]
  },
  {
   "cell_type": "code",
   "execution_count": 13,
   "metadata": {},
   "outputs": [
    {
     "data": {
      "text/plain": [
       "{'hpmap': array([[1.25419392e-07, 1.62144031e-07, 1.79526856e-07, ...,\n",
       "         2.46590458e-10, 9.75865543e-10, 6.87730424e-10],\n",
       "        [1.44844886e+02, 1.54923595e+02, 1.40961397e+02, ...,\n",
       "         2.72896179e+02, 2.21541076e+02, 2.82526517e+02],\n",
       "        [1.41256230e+02, 1.39624119e+02, 1.41143310e+02, ...,\n",
       "         1.68491517e+02, 1.68595934e+02, 1.55918798e+02],\n",
       "        [2.53084235e-05, 2.36136978e-05, 2.61189424e-05, ...,\n",
       "         9.76686037e-06, 1.30767396e-05, 9.62544372e-06]]),\n",
       " 'xmlinf': None,\n",
       " 'fithdr': {'XTENSION': 'BINTABLE',\n",
       "  'BITPIX': 8,\n",
       "  'NAXIS': 2,\n",
       "  'NAXIS1': 32,\n",
       "  'NAXIS2': 3145728,\n",
       "  'PCOUNT': 0,\n",
       "  'GCOUNT': 1,\n",
       "  'TFIELDS': 4,\n",
       "  'TTYPE1': 'PROB',\n",
       "  'TFORM1': 'D',\n",
       "  'TUNIT1': 'pix-1',\n",
       "  'TTYPE2': 'DISTMU',\n",
       "  'TFORM2': 'D',\n",
       "  'TUNIT2': 'Mpc',\n",
       "  'TTYPE3': 'DISTSIGMA',\n",
       "  'TFORM3': 'D',\n",
       "  'TUNIT3': 'Mpc',\n",
       "  'TTYPE4': 'DISTNORM',\n",
       "  'TFORM4': 'D',\n",
       "  'TUNIT4': 'Mpc-2',\n",
       "  'MOC': True,\n",
       "  'PIXTYPE': 'HEALPIX',\n",
       "  'ORDERING': 'NESTED',\n",
       "  'COORDSYS': 'C',\n",
       "  'NSIDE': 512,\n",
       "  'INDXSCHM': 'IMPLICIT',\n",
       "  'OBJECT': 'G331903',\n",
       "  'REFERENC': 'https://gracedb.ligo.org/events/G331903',\n",
       "  'INSTRUME': 'H1,L1,V1',\n",
       "  'DATE-OBS': '2019-05-10T02:59:39.292500',\n",
       "  'MJD-OBS': 58613.12476032978,\n",
       "  'DATE': '2019-05-10T03:00:47.000000',\n",
       "  'CREATOR': 'BAYESTAR',\n",
       "  'ORIGIN': 'LIGO/Virgo',\n",
       "  'RUNTIME': 18.0,\n",
       "  'DISTMEAN': 268.8566049372629,\n",
       "  'DISTSTD': 108.0709050006497,\n",
       "  'LOGBCI': 0.6949211109947058,\n",
       "  'LOGBSN': 7.032293281836687,\n",
       "  'VCSVERS': 'ligo.skymap 0.1.6',\n",
       "  'VCSREV': '79504ec9fb1890fa91665bd69d7aa66cdaf11184',\n",
       "  'DATE-BLD': '2019-03-26T18:11:21',\n",
       "  'HISTORY': 'gwcelery worker -l info -n gwcelery-openmp-worker -Q openmp -c 1'}}"
      ]
     },
     "execution_count": 13,
     "metadata": {},
     "output_type": "execute_result"
    }
   ],
   "source": [
    "a.data_list()"
   ]
  },
  {
   "cell_type": "code",
   "execution_count": 14,
   "metadata": {},
   "outputs": [],
   "source": [
    "a.resetall()"
   ]
  },
  {
   "cell_type": "code",
   "execution_count": 15,
   "metadata": {},
   "outputs": [
    {
     "name": "stderr",
     "output_type": "stream",
     "text": [
      "INFO:pst.pipeline.triggers:running with lxml.etree\n",
      "INFO:pst.pipeline.triggers:### Warning: no C1 found in voevent\n",
      "INFO:pst.pipeline.triggers:### Warning: no C2 found in voevent\n",
      "INFO:pst.pipeline.triggers:### Warning: no Error2Radius found in voevent\n",
      "INFO:pst.pipeline.triggers:obtain hpmap via skymap_fits\n"
     ]
    },
    {
     "name": "stdout",
     "output_type": "stream",
     "text": [
      "NSIDE = 512\n",
      "ORDERING = NESTED in fits file\n",
      "INDXSCHM = IMPLICIT\n",
      "Ordering converted to RING\n",
      "Ordering converted to RING\n",
      "Ordering converted to RING\n",
      "Ordering converted to RING\n"
     ]
    }
   ],
   "source": [
    "a.xml('LVC#S190510g-2-Initial.xml')"
   ]
  },
  {
   "cell_type": "code",
   "execution_count": 16,
   "metadata": {},
   "outputs": [
    {
     "data": {
      "text/plain": [
       "{'hpmap': array([[1.25419392e-07, 1.62144031e-07, 1.79526856e-07, ...,\n",
       "         2.46590458e-10, 9.75865543e-10, 6.87730424e-10],\n",
       "        [1.44844886e+02, 1.54923595e+02, 1.40961397e+02, ...,\n",
       "         2.72896179e+02, 2.21541076e+02, 2.82526517e+02],\n",
       "        [1.41256230e+02, 1.39624119e+02, 1.41143310e+02, ...,\n",
       "         1.68491517e+02, 1.68595934e+02, 1.55918798e+02],\n",
       "        [2.53084235e-05, 2.36136978e-05, 2.61189424e-05, ...,\n",
       "         9.76686037e-06, 1.30767396e-05, 9.62544372e-06]]),\n",
       " 'xmlinf': {'Packet_Type': '151',\n",
       "  'internal': '0',\n",
       "  'Pkt_Ser_Num': '2',\n",
       "  'GraceID': 'S190510g',\n",
       "  'AlertType': 'Initial',\n",
       "  'HardwareInj': '0',\n",
       "  'OpenAlert': '1',\n",
       "  'EventPage': 'https://gracedb.ligo.org/superevents/S190510g/view/',\n",
       "  'Instruments': 'H1,L1,V1',\n",
       "  'FAR': '8.42945108717e-10',\n",
       "  'Group': 'CBC',\n",
       "  'Pipeline': 'gstlal',\n",
       "  'Search': 'AllSky',\n",
       "  'skymap_fits': 'https://gracedb.ligo.org/api/superevents/S190510g/files/bayestar.fits.gz',\n",
       "  'BNS': '0.979698536622',\n",
       "  'NSBH': '0.0',\n",
       "  'BBH': '0.0',\n",
       "  'MassGap': '0.0',\n",
       "  'Terrestrial': '0.0203014633781',\n",
       "  'HasNS': '1.0',\n",
       "  'HasRemnant': '1.0'},\n",
       " 'fithdr': {'XTENSION': 'BINTABLE',\n",
       "  'BITPIX': 8,\n",
       "  'NAXIS': 2,\n",
       "  'NAXIS1': 32,\n",
       "  'NAXIS2': 3145728,\n",
       "  'PCOUNT': 0,\n",
       "  'GCOUNT': 1,\n",
       "  'TFIELDS': 4,\n",
       "  'TTYPE1': 'PROB',\n",
       "  'TFORM1': 'D',\n",
       "  'TUNIT1': 'pix-1',\n",
       "  'TTYPE2': 'DISTMU',\n",
       "  'TFORM2': 'D',\n",
       "  'TUNIT2': 'Mpc',\n",
       "  'TTYPE3': 'DISTSIGMA',\n",
       "  'TFORM3': 'D',\n",
       "  'TUNIT3': 'Mpc',\n",
       "  'TTYPE4': 'DISTNORM',\n",
       "  'TFORM4': 'D',\n",
       "  'TUNIT4': 'Mpc-2',\n",
       "  'MOC': True,\n",
       "  'PIXTYPE': 'HEALPIX',\n",
       "  'ORDERING': 'NESTED',\n",
       "  'COORDSYS': 'C',\n",
       "  'NSIDE': 512,\n",
       "  'INDXSCHM': 'IMPLICIT',\n",
       "  'OBJECT': 'G331903',\n",
       "  'REFERENC': 'https://gracedb.ligo.org/events/G331903',\n",
       "  'INSTRUME': 'H1,L1,V1',\n",
       "  'DATE-OBS': '2019-05-10T02:59:39.292500',\n",
       "  'MJD-OBS': 58613.12476032978,\n",
       "  'DATE': '2019-05-10T03:00:47.000000',\n",
       "  'CREATOR': 'BAYESTAR',\n",
       "  'ORIGIN': 'LIGO/Virgo',\n",
       "  'RUNTIME': 18.0,\n",
       "  'DISTMEAN': 268.8566049372629,\n",
       "  'DISTSTD': 108.0709050006497,\n",
       "  'LOGBCI': 0.6949211109947058,\n",
       "  'LOGBSN': 7.032293281836687,\n",
       "  'VCSVERS': 'ligo.skymap 0.1.6',\n",
       "  'VCSREV': '79504ec9fb1890fa91665bd69d7aa66cdaf11184',\n",
       "  'DATE-BLD': '2019-03-26T18:11:21',\n",
       "  'HISTORY': 'gwcelery worker -l info -n gwcelery-openmp-worker -Q openmp -c 1'}}"
      ]
     },
     "execution_count": 16,
     "metadata": {},
     "output_type": "execute_result"
    }
   ],
   "source": [
    "a.data_list()"
   ]
  },
  {
   "cell_type": "code",
   "execution_count": 17,
   "metadata": {},
   "outputs": [
    {
     "data": {
      "text/plain": [
       "'GraceID:S190510g AlertType:Initial Group:CBC FAR:8.42945108717e-10 Terrestrial:0.0203014633781 HasNS:1.0 HasRemnant:1.0 BNS:0.979698536622 BBH:0.0 NSBH:0.0 Instruments:H1,L1,V1 EventPage:https://gracedb.ligo.org/superevents/S190510g/view/ DISTMEAN:268.8566049372629 DISTSTD:108.0709050006497 DATE-OBS:2019-05-10T02:59:39.292500 MJD-OBS:58613.12476032978 OBJECT:G331903 INSTRUME:H1,L1,V1 CREATOR:BAYESTAR '"
      ]
     },
     "execution_count": 17,
     "metadata": {},
     "output_type": "execute_result"
    }
   ],
   "source": [
    "a.make_report()"
   ]
  },
  {
   "cell_type": "code",
   "execution_count": 18,
   "metadata": {},
   "outputs": [
    {
     "data": {
      "text/plain": [
       "'#\\tGraceID:\\tS190510g\\n#\\tAlertType:\\tInitial\\n#\\tGroup:\\tCBC\\n#\\tFAR:\\t8.42945108717e-10\\n#\\tTerrestrial:\\t0.0203014633781\\n#\\tHasNS:\\t1.0\\n#\\tHasRemnant:\\t1.0\\n#\\tBNS:\\t0.979698536622\\n#\\tBBH:\\t0.0\\n#\\tNSBH:\\t0.0\\n#\\tInstruments:\\tH1,L1,V1\\n#\\tEventPage:\\thttps://gracedb.ligo.org/superevents/S190510g/view/\\n#\\tDISTMEAN:\\t268.8566049372629\\n#\\tDISTSTD:\\t108.0709050006497\\n#\\tDATE-OBS:\\t2019-05-10T02:59:39.292500\\n#\\tMJD-OBS:\\t58613.12476032978\\n#\\tOBJECT:\\tG331903\\n#\\tINSTRUME:\\tH1,L1,V1\\n#\\tCREATOR:\\tBAYESTAR\\n'"
      ]
     },
     "execution_count": 18,
     "metadata": {},
     "output_type": "execute_result"
    }
   ],
   "source": [
    "a.make_report(style='email')"
   ]
  },
  {
   "cell_type": "code",
   "execution_count": 19,
   "metadata": {},
   "outputs": [
    {
     "name": "stderr",
     "output_type": "stream",
     "text": [
      "INFO:pst.pipeline.triggers:hpmap has already been parsed\n"
     ]
    },
    {
     "data": {
      "text/plain": [
       "{0.5: [2414072,\n",
       "  2418168,\n",
       "  2416119,\n",
       "  2416120,\n",
       "  2412023,\n",
       "  2420216,\n",
       "  2409976,\n",
       "  2414071,\n",
       "  2412024,\n",
       "  2420215,\n",
       "  2422264,\n",
       "  2418169,\n",
       "  2409975,\n",
       "  2418167,\n",
       "  2407927,\n",
       "  2422265,\n",
       "  2424312,\n",
       "  2414073,\n",
       "  2412022,\n",
       "  2416118,\n",
       "  2405879,\n",
       "  2405880,\n",
       "  2424311,\n",
       "  2407928,\n",
       "  2407926,\n",
       "  2422263,\n",
       "  2426361,\n",
       "  2420217,\n",
       "  2426360,\n",
       "  2424313,\n",
       "  2403831,\n",
       "  2409977,\n",
       "  2416121,\n",
       "  2420214,\n",
       "  2428408,\n",
       "  2409974,\n",
       "  2414070,\n",
       "  2403830,\n",
       "  2428409,\n",
       "  2401783,\n",
       "  2405878,\n",
       "  2418166,\n",
       "  2430457,\n",
       "  2428407,\n",
       "  2426359,\n",
       "  2412025,\n",
       "  2401784,\n",
       "  2403832,\n",
       "  2422266,\n",
       "  2430456,\n",
       "  2424310,\n",
       "  2426362,\n",
       "  2412021,\n",
       "  2399735,\n",
       "  2418170,\n",
       "  2407925,\n",
       "  2405881,\n",
       "  2401782,\n",
       "  2399734,\n",
       "  2432504,\n",
       "  2416117,\n",
       "  2422262,\n",
       "  2432505,\n",
       "  2430458,\n",
       "  2403829,\n",
       "  2397687,\n",
       "  2414074,\n",
       "  2407929,\n",
       "  2434553,\n",
       "  2420213,\n",
       "  2430455,\n",
       "  2432503,\n",
       "  2409973,\n",
       "  2428406,\n",
       "  2424314,\n",
       "  2397688,\n",
       "  2397686,\n",
       "  2428410,\n",
       "  2399736,\n",
       "  2414069,\n",
       "  2405877,\n",
       "  2399733,\n",
       "  2434552,\n",
       "  2434554,\n",
       "  2420218,\n",
       "  2426358,\n",
       "  2395638,\n",
       "  2395639,\n",
       "  2401785,\n",
       "  2436601,\n",
       "  2432506,\n",
       "  2418165,\n",
       "  2401781,\n",
       "  2436600,\n",
       "  2409978,\n",
       "  2424309,\n",
       "  2416122,\n",
       "  2393591,\n",
       "  2403833,\n",
       "  2407924,\n",
       "  2395637,\n",
       "  2412020,\n",
       "  2438649,\n",
       "  2393590,\n",
       "  2436602,\n",
       "  2403828,\n",
       "  2397685,\n",
       "  2434551,\n",
       "  2438650,\n",
       "  2432502,\n",
       "  2422261,\n",
       "  2426363,\n",
       "  2436599,\n",
       "  2430459,\n",
       "  2416116,\n",
       "  2430454,\n",
       "  2391542,\n",
       "  2393592,\n",
       "  2422267,\n",
       "  2395640,\n",
       "  2412026,\n",
       "  2438648,\n",
       "  2391543,\n",
       "  2399732,\n",
       "  2434555,\n",
       "  2405882,\n",
       "  2440697,\n",
       "  2428405,\n",
       "  2397689,\n",
       "  2420212,\n",
       "  2440696,\n",
       "  2418171,\n",
       "  2391541,\n",
       "  2393589,\n",
       "  2409972,\n",
       "  2389495,\n",
       "  2405876,\n",
       "  2440698,\n",
       "  2426357,\n",
       "  2389494,\n",
       "  2399737,\n",
       "  2438651,\n",
       "  2414068,\n",
       "  2395636,\n",
       "  2401780,\n",
       "  2442746,\n",
       "  2442745,\n",
       "  2407930,\n",
       "  2436598,\n",
       "  2428411,\n",
       "  2438647,\n",
       "  2432507,\n",
       "  2414075,\n",
       "  2387446,\n",
       "  2434550,\n",
       "  2418164,\n",
       "  2424308,\n",
       "  2440695,\n",
       "  2397684,\n",
       "  2424315,\n",
       "  2401786,\n",
       "  2389496,\n",
       "  2432501,\n",
       "  2436603,\n",
       "  2391544,\n",
       "  2389493,\n",
       "  2444793,\n",
       "  2387447,\n",
       "  2442744,\n",
       "  2387445,\n",
       "  2442747,\n",
       "  2391540,\n",
       "  2407923,\n",
       "  2403827,\n",
       "  2393593,\n",
       "  2444794,\n",
       "  2420219,\n",
       "  2430453,\n",
       "  2412019,\n",
       "  2385399,\n",
       "  2385398,\n",
       "  2393588,\n",
       "  2444792,\n",
       "  2422260,\n",
       "  2440699,\n",
       "  2399731,\n",
       "  2409979,\n",
       "  2395641,\n",
       "  2416115,\n",
       "  2403834,\n",
       "  2446842,\n",
       "  2428404,\n",
       "  2416123,\n",
       "  2446841,\n",
       "  2383350,\n",
       "  2395635,\n",
       "  2430460,\n",
       "  2387444,\n",
       "  2434556,\n",
       "  2385397,\n",
       "  2440694,\n",
       "  2438646,\n",
       "  2446843,\n",
       "  2442743,\n",
       "  2426364,\n",
       "  2444795,\n",
       "  2389492,\n",
       "  2397690,\n",
       "  2383349,\n",
       "  2436597,\n",
       "  2420211,\n",
       "  2438652,\n",
       "  2405875,\n",
       "  2444791,\n",
       "  2426356,\n",
       "  2409971,\n",
       "  2401779,\n",
       "  2385400,\n",
       "  2387448,\n",
       "  2448889,\n",
       "  2448890,\n",
       "  2383351,\n",
       "  2434549,\n",
       "  2422268,\n",
       "  2391539,\n",
       "  2446840,\n",
       "  2405883,\n",
       "  2414067,\n",
       "  2412027,\n",
       "  2381302,\n",
       "  2397683,\n",
       "  2389497,\n",
       "  2442748,\n",
       "  2381303,\n",
       "  2432500,\n",
       "  2399738,\n",
       "  2448888,\n",
       "  2383348,\n",
       "  2424307,\n",
       "  2385396,\n",
       "  2391545,\n",
       "  2418172,\n",
       "  2448891,\n",
       "  2450938,\n",
       "  2381301,\n",
       "  2418163,\n",
       "  2393587,\n",
       "  2379254,\n",
       "  2450939,\n",
       "  2387443,\n",
       "  2446844,\n",
       "  2432508,\n",
       "  2436604,\n",
       "  2430452,\n",
       "  2450937,\n",
       "  2379253,\n",
       "  2403826,\n",
       "  2407922,\n",
       "  2428412,\n",
       "  2442742,\n",
       "  2444790,\n",
       "  2407931,\n",
       "  2399730,\n",
       "  2440700,\n",
       "  2393594,\n",
       "  2440693,\n",
       "  2446839,\n",
       "  2412018,\n",
       "  2401787,\n",
       "  2389491,\n",
       "  2414076,\n",
       "  2452986,\n",
       "  2422259,\n",
       "  2424316,\n",
       "  2438645,\n",
       "  2448887,\n",
       "  2381304,\n",
       "  2377206,\n",
       "  2395634,\n",
       "  2452985,\n",
       "  2383352,\n",
       "  2379255,\n",
       "  2444796,\n",
       "  2428403,\n",
       "  2381300,\n",
       "  2379252,\n",
       "  2416114,\n",
       "  2450936,\n",
       "  2450940,\n",
       "  2385401,\n",
       "  2452987,\n",
       "  2436596,\n",
       "  2383347,\n",
       "  2377207,\n",
       "  2395642,\n",
       "  2377205,\n",
       "  2420220,\n",
       "  2391538,\n",
       "  2385395,\n",
       "  2387449,\n",
       "  2452984,\n",
       "  2455034,\n",
       "  2455035,\n",
       "  2448892,\n",
       "  2434548,\n",
       "  2375158,\n",
       "  2409980,\n",
       "  2375157,\n",
       "  2403835,\n",
       "  2405874,\n",
       "  2401778,\n",
       "  2426355,\n",
       "  2434557,\n",
       "  2420210,\n",
       "  2438653,\n",
       "  2397682,\n",
       "  2409970,\n",
       "  2430461,\n",
       "  2442749,\n",
       "  2455033,\n",
       "  2387442,\n",
       "  2397691,\n",
       "  2416124,\n",
       "  2389498,\n",
       "  2377204,\n",
       "  2446838,\n",
       "  2379251,\n",
       "  2448886,\n",
       "  2432499,\n",
       "  2444789,\n",
       "  2455036,\n",
       "  2393586,\n",
       "  2373110,\n",
       "  2375156,\n",
       "  2426365,\n",
       "  2414066,\n",
       "  2457082,\n",
       "  2450935,\n",
       "  2442741,\n",
       "  2452988,\n",
       "  2446845,\n",
       "  2381299,\n",
       "  2377208,\n",
       "  2457083,\n",
       "  2375159,\n",
       "  2379256,\n",
       "  2373109,\n",
       "  2452983,\n",
       "  2457081,\n",
       "  2440692,\n",
       "  2424306,\n",
       "  2391546,\n",
       "  2389490,\n",
       "  2405884,\n",
       "  2373111,\n",
       "  2422269,\n",
       "  2381305,\n",
       "  2383346,\n",
       "  2418162,\n",
       "  2412028,\n",
       "  2455032,\n",
       "  2430451,\n",
       "  2399739,\n",
       "  2450941,\n",
       "  2371061,\n",
       "  2403825,\n",
       "  2438644,\n",
       "  2399729,\n",
       "  2459131,\n",
       "  2383353,\n",
       "  2371062,\n",
       "  2407921,\n",
       "  2459130,\n",
       "  2395633,\n",
       "  2375155,\n",
       "  2457080,\n",
       "  2436605,\n",
       "  2373108,\n",
       "  2440701,\n",
       "  2457084,\n",
       "  2385394,\n",
       "  2418173,\n",
       "  2377203,\n",
       "  2393595,\n",
       "  2432509,\n",
       "  2459132,\n",
       "  2444797,\n",
       "  2412017,\n",
       "  2371060,\n",
       "  2436595,\n",
       "  2385402,\n",
       "  2391537,\n",
       "  2422258,\n",
       "  2379250,\n",
       "  2369014,\n",
       "  2455037,\n",
       "  2428402,\n",
       "  2428413,\n",
       "  2459129,\n",
       "  2448893,\n",
       "  2407932,\n",
       "  2450934,\n",
       "  2369013,\n",
       "  2461178,\n",
       "  2448885,\n",
       "  2401788,\n",
       "  2461179,\n",
       "  2452982,\n",
       "  2446837,\n",
       "  2416113,\n",
       "  2373112,\n",
       "  2371063,\n",
       "  2455031,\n",
       "  2381298,\n",
       "  2387441,\n",
       "  2414077,\n",
       "  2375160,\n",
       "  2424317,\n",
       "  2434547,\n",
       "  2387450,\n",
       "  2444788,\n",
       "  2395643,\n",
       "  2369015,\n",
       "  2461177,\n",
       "  2452989,\n",
       "  2457079,\n",
       "  2377209,\n",
       "  2366965,\n",
       "  2371059,\n",
       "  2401777,\n",
       "  2373107,\n",
       "  2397681,\n",
       "  2461180,\n",
       "  2369012,\n",
       "  2405873,\n",
       "  2459133,\n",
       "  2442740,\n",
       "  2426354,\n",
       "  2375154,\n",
       "  2463227,\n",
       "  2366966,\n",
       "  2459128,\n",
       "  2393585,\n",
       "  2379257,\n",
       "  2420221,\n",
       "  2383345,\n",
       "  2420209,\n",
       "  2366964,\n",
       "  2463228,\n",
       "  2438654,\n",
       "  2409969,\n",
       "  2442750,\n",
       "  2389499,\n",
       "  2463226,\n",
       "  2432498,\n",
       "  2403836,\n",
       "  2434558,\n",
       "  2377202,\n",
       "  2446846,\n",
       "  2440691,\n",
       "  2457085,\n",
       "  2409981,\n",
       "  2389489,\n",
       "  2461176,\n",
       "  2364918,\n",
       "  2397692,\n",
       "  2381306,\n",
       "  2430462,\n",
       "  2364917,\n",
       "  2414065,\n",
       "  2450942,\n",
       "  2465275,\n",
       "  2416125,\n",
       "  2379249,\n",
       "  2385393,\n",
       "  2463225,\n",
       "  2465274,\n",
       "  2369011,\n",
       "  2438643,\n",
       "  2366963,\n",
       "  2426366,\n",
       "  2463229,\n",
       "  2391547,\n",
       "  2424305,\n",
       "  2452981,\n",
       "  2371058,\n",
       "  2455030,\n",
       "  2369016,\n",
       "  2366967,\n",
       "  2383354,\n",
       "  2450933,\n",
       "  2457078,\n",
       "  2430450,\n",
       "  2371064,\n",
       "  2465276,\n",
       "  2362869,\n",
       "  2364916,\n",
       "  2455038,\n",
       "  2461181,\n",
       "  2364919,\n",
       "  2399728,\n",
       "  2373106,\n",
       "  2448884,\n",
       "  2459127,\n",
       "  2418161,\n",
       "  2395632,\n",
       "  2403824,\n",
       "  2373113,\n",
       "  2405885,\n",
       "  2465273,\n",
       "  2362868,\n",
       "  2399740,\n",
       "  2422270,\n",
       "  2381297,\n",
       "  2362870,\n",
       "  2391536,\n",
       "  2461175,\n",
       "  2446836,\n",
       "  2407920,\n",
       "  2412029,\n",
       "  2436594,\n",
       "  2467323,\n",
       "  2467324,\n",
       "  2375161,\n",
       "  2375153,\n",
       "  2385403,\n",
       "  2440702,\n",
       "  2444798,\n",
       "  2459134,\n",
       "  2436606,\n",
       "  2393596,\n",
       "  2448894,\n",
       "  2387440,\n",
       "  2463224,\n",
       "  2360821,\n",
       "  2360822,\n",
       "  2444787,\n",
       "  2412016,\n",
       "  2467322,\n",
       "  2432510,\n",
       "  2428401,\n",
       "  2364915,\n",
       "  2377210,\n",
       "  2366962,\n",
       "  2418174,\n",
       "  2422257,\n",
       "  2452990,\n",
       "  2467325,\n",
       "  2465277,\n",
       "  2362867,\n",
       "  2377201,\n",
       "  2369010,\n",
       "  2465272,\n",
       "  2383344,\n",
       "  2469371,\n",
       "  2387451,\n",
       "  2434546,\n",
       "  2428414,\n",
       "  2360820,\n",
       "  2442739,\n",
       "  2401789,\n",
       "  2407933,\n",
       "  2463230,\n",
       "  2469372,\n",
       "  2358773,\n",
       "  2371057,\n",
       "  2379258,\n",
       "  2416112,\n",
       "  2457086,\n",
       "  2364920,\n",
       "  2362871,\n",
       "  2469370,\n",
       "  2395644,\n",
       "  2366968,\n",
       "  2467321,\n",
       "  2397680,\n",
       "  2360823,\n",
       "  2358772,\n",
       "  2401776,\n",
       "  2393584,\n",
       "  2457077,\n",
       "  2459126,\n",
       "  2414078,\n",
       "  2424318,\n",
       "  2455029,\n",
       "  2369017,\n",
       "  2379248,\n",
       "  2461174,\n",
       "  2373105,\n",
       "  2452980,\n",
       "  2405872,\n",
       "  2389488,\n",
       "  2358774,\n",
       "  2440690,\n",
       "  2426353,\n",
       "  2389500,\n",
       "  2463223,\n",
       "  2381307,\n",
       "  2461182,\n",
       "  2471420,\n",
       "  2442751,\n",
       "  2371065,\n",
       "  2362866,\n",
       "  2446847,\n",
       "  2469369,\n",
       "  2360819,\n",
       "  2356725,\n",
       "  2450932,\n",
       "  2469373,\n",
       "  2432497,\n",
       "  2438655,\n",
       "  2471419,\n",
       "  2364914,\n",
       "  2420208,\n",
       "  2385392,\n",
       "  2450943,\n",
       "  2409968,\n",
       "  2467326,\n",
       "  2465271,\n",
       "  2358771,\n",
       "  2356726,\n",
       "  2420222,\n",
       "  2471421,\n",
       "  2434559,\n",
       "  2403837,\n",
       "  2366961,\n",
       "  2373114,\n",
       "  2397693,\n",
       "  2448883,\n",
       "  2375152,\n",
       "  2455039,\n",
       "  2409982,\n",
       "  2356724,\n",
       "  2467320,\n",
       "  2471418,\n",
       "  2438642,\n",
       "  2383355,\n",
       "  2430463,\n",
       "  2381296,\n",
       "  2465278,\n",
       "  2369009,\n",
       "  2414064,\n",
       "  2354677,\n",
       "  2391548,\n",
       "  2473467,\n",
       "  2473468,\n",
       "  2459135,\n",
       "  2446835,\n",
       "  2375162,\n",
       "  2354676,\n",
       "  2416126,\n",
       "  2469368,\n",
       "  2360824,\n",
       "  2358775,\n",
       "  2426367,\n",
       "  2430449,\n",
       "  2395631,\n",
       "  2424304,\n",
       "  2362872,\n",
       "  2356727,\n",
       "  2399727,\n",
       "  2391535,\n",
       "  2358770,\n",
       "  2473466,\n",
       "  2360818,\n",
       "  2371056,\n",
       "  2377200,\n",
       "  2471422,\n",
       "  2356723,\n",
       "  2364921,\n",
       "  2385404,\n",
       "  2473469,\n",
       "  2403823,\n",
       "  2354678,\n",
       "  2362865,\n",
       "  2463231,\n",
       "  2387439,\n",
       "  2471417,\n",
       "  2399741,\n",
       "  2405886,\n",
       "  2377211,\n",
       "  2436593,\n",
       "  2352629,\n",
       "  2444786,\n",
       "  2418160,\n",
       "  2461173,\n",
       "  2354675,\n",
       "  2469374,\n",
       "  2459125,\n",
       "  2444799,\n",
       "  2463222,\n",
       "  2448895,\n",
       "  2422271,\n",
       "  2366969,\n",
       "  2440703,\n",
       "  2475516,\n",
       "  2393597,\n",
       "  2457076,\n",
       "  2364913,\n",
       "  2465270,\n",
       "  2412030,\n",
       "  2452991,\n",
       "  2407919,\n",
       "  2352630,\n",
       "  2383343,\n",
       "  2475517,\n",
       "  2436607,\n",
       "  2352628,\n",
       "  2467319,\n",
       "  2475515,\n",
       "  2455028,\n",
       "  2473465,\n",
       "  2373104,\n",
       "  2457087,\n",
       "  2369018,\n",
       "  2467327,\n",
       "  2379259,\n",
       "  2432511,\n",
       "  2387452,\n",
       "  2366960,\n",
       "  2442738,\n",
       "  2469367,\n",
       "  2452979,\n",
       "  2379247,\n",
       "  2428400,\n",
       "  2418175,\n",
       "  2350581,\n",
       "  2412015,\n",
       "  2350580,\n",
       "  2461183,\n",
       "  2422256,\n",
       "  2356722,\n",
       "  2434545,\n",
       "  2354674,\n",
       "  2371066,\n",
       "  2401790,\n",
       "  2475518,\n",
       "  2477564,\n",
       "  2475514,\n",
       "  2428415,\n",
       "  2358769,\n",
       "  2471416,\n",
       "  2473470,\n",
       "  2407934,\n",
       "  2352627,\n",
       "  2395645,\n",
       "  2477563,\n",
       "  2354679,\n",
       "  2356728,\n",
       "  2450931,\n",
       "  2369008,\n",
       "  2358776,\n",
       "  2352631,\n",
       "  2360817,\n",
       "  2477565,\n",
       "  2381308,\n",
       "  2393583,\n",
       "  2375151,\n",
       "  2397679,\n",
       "  2350579,\n",
       "  2389487,\n",
       "  2465279,\n",
       "  2471423,\n",
       "  2348533,\n",
       "  2360825,\n",
       "  2473464,\n",
       "  2350582,\n",
       "  2389501,\n",
       "  2414079,\n",
       "  2416111,\n",
       "  2373115,\n",
       "  2440689,\n",
       "  2424319,\n",
       "  2401775,\n",
       "  2385391,\n",
       "  2362864,\n",
       "  2446848,\n",
       "  2477562,\n",
       "  2450944,\n",
       "  2442752,\n",
       "  2362873,\n",
       "  2348532,\n",
       "  2448882,\n",
       "  2455040,\n",
       "  2348534,\n",
       "  2438656,\n",
       "  2479613,\n",
       "  2405871,\n",
       "  2479612,\n",
       "  2475513,\n",
       "  2381295,\n",
       "  2371055,\n",
       "  2465269,\n",
       "  2426352,\n",
       "  2383356,\n",
       "  2463221,\n",
       "  2469375,\n",
       "  2432496,\n",
       "  2459136,\n",
       "  2403838,\n",
       "  2467318,\n",
       "  2375163,\n",
       "  2364922,\n",
       "  2397694,\n",
       "  2420223,\n",
       "  2364912,\n",
       "  2434560,\n",
       "  2461172,\n",
       "  2352626,\n",
       "  2477566,\n",
       "  2354673,\n",
       "  2346484,\n",
       "  2469366,\n",
       "  2350578,\n",
       "  2346485,\n",
       "  2479611,\n",
       "  2409983,\n",
       "  2479614,\n",
       "  2459124,\n",
       "  2391549,\n",
       "  2356721,\n",
       "  2420207,\n",
       "  2475519,\n",
       "  2377199,\n",
       "  2409967,\n",
       "  2446834,\n",
       "  2477561,\n",
       "  2463232,\n",
       "  2348531,\n",
       "  2471415,\n",
       "  2438641,\n",
       "  2430464,\n",
       "  2366970,\n",
       "  2358768,\n",
       "  2457075,\n",
       "  2346483,\n",
       "  2481660,\n",
       "  2473463,\n",
       "  2377212,\n",
       "  2350583,\n",
       "  2352632,\n",
       "  2416127,\n",
       "  2366959,\n",
       "  2385405,\n",
       "  2473471,\n",
       "  2481661,\n",
       "  2348535,\n",
       "  2354680,\n",
       "  2344437,\n",
       "  2467328,\n",
       "  2426368,\n",
       "  2373103,\n",
       "  2479610,\n",
       "  2481659,\n",
       "  2369019,\n",
       "  2391534,\n",
       "  2346486,\n",
       "  2356729,\n",
       "  2360816,\n",
       "  2414063,\n",
       "  2455027,\n",
       "  2475512,\n",
       "  2395630,\n",
       "  2344436,\n",
       "  2399742,\n",
       "  2387438,\n",
       "  2448896,\n",
       "  2444785,\n",
       "  2405887,\n",
       "  2452992,\n",
       "  2444800,\n",
       "  2393598,\n",
       "  2430448,\n",
       "  2399726,\n",
       "  2358777,\n",
       "  2383342,\n",
       "  2457088,\n",
       "  2344438,\n",
       "  2440704,\n",
       "  2424303,\n",
       "  2350577,\n",
       "  2379260,\n",
       "  2348530,\n",
       "  2479615,\n",
       "  2422272,\n",
       "  2481662,\n",
       "  2477560,\n",
       "  2436592,\n",
       "  2412031,\n",
       "  2352625,\n",
       "  2471424,\n",
       "  2346482,\n",
       "  2371067,\n",
       "  2483709,\n",
       "  2452978,\n",
       "  2481658,\n",
       "  2461184,\n",
       "  2436608,\n",
       "  2369007,\n",
       "  2387453,\n",
       "  2342388,\n",
       "  2362863,\n",
       "  2379246,\n",
       "  2360826,\n",
       "  2477567,\n",
       "  2354672,\n",
       "  2483708,\n",
       "  2344435,\n",
       "  2342389,\n",
       "  2483710,\n",
       "  2418159,\n",
       "  2432512,\n",
       "  2479609,\n",
       "  2465280,\n",
       "  2418176,\n",
       "  2356720,\n",
       "  2442737,\n",
       "  2469365,\n",
       "  2362874,\n",
       "  2467317,\n",
       "  2342387,\n",
       "  2375150,\n",
       "  2407918,\n",
       "  2381309,\n",
       "  2471414,\n",
       "  2401791,\n",
       "  2465268,\n",
       "  2373116,\n",
       "  2395646,\n",
       "  2450930,\n",
       "  2483707,\n",
       "  2475520,\n",
       "  2473462,\n",
       "  2407935,\n",
       "  2428416,\n",
       "  2346487,\n",
       "  2463220,\n",
       "  2348536,\n",
       "  2364911,\n",
       "  2340341,\n",
       "  2469376,\n",
       "  2344439,\n",
       "  2481657,\n",
       "  2350584,\n",
       "  2389502,\n",
       "  2485757,\n",
       "  2340340,\n",
       "  2475511,\n",
       "  2485756,\n",
       "  2364923,\n",
       "  2428399,\n",
       "  2342390,\n",
       "  2352633,\n",
       "  2461171,\n",
       "  2346481,\n",
       "  2483711,\n",
       "  2434544,\n",
       "  2348529,\n",
       "  2344434,\n",
       "  2450945,\n",
       "  2414080,\n",
       "  2481663,\n",
       "  2446849,\n",
       "  2455041,\n",
       "  2477559,\n",
       "  2389486,\n",
       "  2350576,\n",
       "  2342386,\n",
       "  2485758,\n",
       "  2442753,\n",
       "  2422255,\n",
       "  2393582,\n",
       "  2383357,\n",
       "  2485755,\n",
       "  2459137,\n",
       "  2385390,\n",
       "  2459123,\n",
       "  2366971,\n",
       "  2338292,\n",
       "  2440688,\n",
       "  2397678,\n",
       "  2438657,\n",
       "  2479616,\n",
       "  2340339,\n",
       "  2381294,\n",
       "  2352624,\n",
       "  2479608,\n",
       "  2463233,\n",
       "  2397695,\n",
       "  2366958,\n",
       "  2420224,\n",
       "  2434561,\n",
       "  2487806,\n",
       "  2377198,\n",
       "  2338291,\n",
       "  2409984,\n",
       "  2467329,\n",
       "  2457074,\n",
       "  2416110,\n",
       "  2354671,\n",
       "  ...]}"
      ]
     },
     "execution_count": 19,
     "metadata": {},
     "output_type": "execute_result"
    }
   ],
   "source": [
    "a.calc_contours(cls=[.5])"
   ]
  },
  {
   "cell_type": "code",
   "execution_count": 20,
   "metadata": {},
   "outputs": [
    {
     "data": {
      "text/plain": [
       "{'XTENSION': 'BINTABLE',\n",
       " 'BITPIX': 8,\n",
       " 'NAXIS': 2,\n",
       " 'NAXIS1': 32,\n",
       " 'NAXIS2': 3145728,\n",
       " 'PCOUNT': 0,\n",
       " 'GCOUNT': 1,\n",
       " 'TFIELDS': 4,\n",
       " 'TTYPE1': 'PROB',\n",
       " 'TFORM1': 'D',\n",
       " 'TUNIT1': 'pix-1',\n",
       " 'TTYPE2': 'DISTMU',\n",
       " 'TFORM2': 'D',\n",
       " 'TUNIT2': 'Mpc',\n",
       " 'TTYPE3': 'DISTSIGMA',\n",
       " 'TFORM3': 'D',\n",
       " 'TUNIT3': 'Mpc',\n",
       " 'TTYPE4': 'DISTNORM',\n",
       " 'TFORM4': 'D',\n",
       " 'TUNIT4': 'Mpc-2',\n",
       " 'MOC': True,\n",
       " 'PIXTYPE': 'HEALPIX',\n",
       " 'ORDERING': 'NESTED',\n",
       " 'COORDSYS': 'C',\n",
       " 'NSIDE': 512,\n",
       " 'INDXSCHM': 'IMPLICIT',\n",
       " 'OBJECT': 'G331903',\n",
       " 'REFERENC': 'https://gracedb.ligo.org/events/G331903',\n",
       " 'INSTRUME': 'H1,L1,V1',\n",
       " 'DATE-OBS': '2019-05-10T02:59:39.292500',\n",
       " 'MJD-OBS': 58613.12476032978,\n",
       " 'DATE': '2019-05-10T03:00:47.000000',\n",
       " 'CREATOR': 'BAYESTAR',\n",
       " 'ORIGIN': 'LIGO/Virgo',\n",
       " 'RUNTIME': 18.0,\n",
       " 'DISTMEAN': 268.8566049372629,\n",
       " 'DISTSTD': 108.0709050006497,\n",
       " 'LOGBCI': 0.6949211109947058,\n",
       " 'LOGBSN': 7.032293281836687,\n",
       " 'VCSVERS': 'ligo.skymap 0.1.6',\n",
       " 'VCSREV': '79504ec9fb1890fa91665bd69d7aa66cdaf11184',\n",
       " 'DATE-BLD': '2019-03-26T18:11:21',\n",
       " 'HISTORY': 'gwcelery worker -l info -n gwcelery-openmp-worker -Q openmp -c 1'}"
      ]
     },
     "execution_count": 20,
     "metadata": {},
     "output_type": "execute_result"
    }
   ],
   "source": [
    "a.get('fithdr')"
   ]
  },
  {
   "cell_type": "code",
   "execution_count": 21,
   "metadata": {},
   "outputs": [
    {
     "data": {
      "text/plain": [
       "{'Packet_Type': '151',\n",
       " 'internal': '0',\n",
       " 'Pkt_Ser_Num': '2',\n",
       " 'GraceID': 'S190510g',\n",
       " 'AlertType': 'Initial',\n",
       " 'HardwareInj': '0',\n",
       " 'OpenAlert': '1',\n",
       " 'EventPage': 'https://gracedb.ligo.org/superevents/S190510g/view/',\n",
       " 'Instruments': 'H1,L1,V1',\n",
       " 'FAR': '8.42945108717e-10',\n",
       " 'Group': 'CBC',\n",
       " 'Pipeline': 'gstlal',\n",
       " 'Search': 'AllSky',\n",
       " 'skymap_fits': 'https://gracedb.ligo.org/api/superevents/S190510g/files/bayestar.fits.gz',\n",
       " 'BNS': '0.979698536622',\n",
       " 'NSBH': '0.0',\n",
       " 'BBH': '0.0',\n",
       " 'MassGap': '0.0',\n",
       " 'Terrestrial': '0.0203014633781',\n",
       " 'HasNS': '1.0',\n",
       " 'HasRemnant': '1.0'}"
      ]
     },
     "execution_count": 21,
     "metadata": {},
     "output_type": "execute_result"
    }
   ],
   "source": [
    "a.get('xmlinf')"
   ]
  },
  {
   "cell_type": "code",
   "execution_count": 22,
   "metadata": {},
   "outputs": [
    {
     "data": {
      "text/plain": [
       "'Initial'"
      ]
     },
     "execution_count": 22,
     "metadata": {},
     "output_type": "execute_result"
    }
   ],
   "source": [
    "a.get('xmlinf')['AlertType']"
   ]
  },
  {
   "cell_type": "code",
   "execution_count": 23,
   "metadata": {},
   "outputs": [
    {
     "data": {
      "text/plain": [
       "'8.42945108717e-10'"
      ]
     },
     "execution_count": 23,
     "metadata": {},
     "output_type": "execute_result"
    }
   ],
   "source": [
    "a.get('xmlinf')['FAR']"
   ]
  },
  {
   "cell_type": "code",
   "execution_count": 24,
   "metadata": {},
   "outputs": [],
   "source": [
    "hpmap, distmean, distsigma, distnorm = a.get('hpmap')"
   ]
  },
  {
   "cell_type": "code",
   "execution_count": 25,
   "metadata": {},
   "outputs": [
    {
     "data": {
      "text/plain": [
       "array([1.25419392e-07, 1.62144031e-07, 1.79526856e-07, ...,\n",
       "       2.46590458e-10, 9.75865543e-10, 6.87730424e-10])"
      ]
     },
     "execution_count": 25,
     "metadata": {},
     "output_type": "execute_result"
    }
   ],
   "source": [
    "hpmap"
   ]
  },
  {
   "cell_type": "code",
   "execution_count": 26,
   "metadata": {},
   "outputs": [
    {
     "data": {
      "text/plain": [
       "array([144.84488626, 154.92359484, 140.96139722, ..., 272.89617891,\n",
       "       221.54107632, 282.52651738])"
      ]
     },
     "execution_count": 26,
     "metadata": {},
     "output_type": "execute_result"
    }
   ],
   "source": [
    "distmean"
   ]
  },
  {
   "cell_type": "code",
   "execution_count": 27,
   "metadata": {},
   "outputs": [
    {
     "data": {
      "text/plain": [
       "array([141.2562301 , 139.6241191 , 141.1433103 , ..., 168.49151694,\n",
       "       168.59593387, 155.91879842])"
      ]
     },
     "execution_count": 27,
     "metadata": {},
     "output_type": "execute_result"
    }
   ],
   "source": [
    "distsigma"
   ]
  },
  {
   "cell_type": "code",
   "execution_count": 28,
   "metadata": {},
   "outputs": [
    {
     "data": {
      "text/plain": [
       "array([2.53084235e-05, 2.36136978e-05, 2.61189424e-05, ...,\n",
       "       9.76686037e-06, 1.30767396e-05, 9.62544372e-06])"
      ]
     },
     "execution_count": 28,
     "metadata": {},
     "output_type": "execute_result"
    }
   ],
   "source": [
    "distnorm"
   ]
  },
  {
   "cell_type": "code",
   "execution_count": 29,
   "metadata": {},
   "outputs": [],
   "source": [
    "b=PstParseTriggers(hpmap=hpmap)"
   ]
  },
  {
   "cell_type": "code",
   "execution_count": 30,
   "metadata": {},
   "outputs": [
    {
     "name": "stderr",
     "output_type": "stream",
     "text": [
      "INFO:pst.pipeline.triggers:hpmap has already been parsed\n"
     ]
    },
    {
     "data": {
      "text/plain": [
       "{0.5: 575.5456172035578, 0.9: 3463.7648737864856}"
      ]
     },
     "execution_count": 30,
     "metadata": {},
     "output_type": "execute_result"
    }
   ],
   "source": [
    "b.calc_area()"
   ]
  },
  {
   "cell_type": "code",
   "execution_count": 31,
   "metadata": {},
   "outputs": [
    {
     "name": "stderr",
     "output_type": "stream",
     "text": [
      "INFO:pst.pipeline.triggers:### Warning: no GraceID found in voevent\n",
      "INFO:pst.pipeline.triggers:### Warning: no AlertType found in voevent\n",
      "INFO:pst.pipeline.triggers:### Warning: no Group found in voevent\n",
      "INFO:pst.pipeline.triggers:### Warning: no FAR found in voevent\n",
      "INFO:pst.pipeline.triggers:### Warning: no Terrestrial found in voevent\n",
      "INFO:pst.pipeline.triggers:### Warning: no HasNS found in voevent\n",
      "INFO:pst.pipeline.triggers:### Warning: no HasRemnant found in voevent\n",
      "INFO:pst.pipeline.triggers:### Warning: no BNS found in voevent\n",
      "INFO:pst.pipeline.triggers:### Warning: no BBH found in voevent\n",
      "INFO:pst.pipeline.triggers:### Warning: no NSBH found in voevent\n",
      "INFO:pst.pipeline.triggers:### Warning: no Instruments found in voevent\n",
      "INFO:pst.pipeline.triggers:### Warning: no EventPage found in voevent\n",
      "INFO:pst.pipeline.triggers:### Warning: no DISTMEAN found in fits header\n",
      "INFO:pst.pipeline.triggers:### Warning: no DISTSTD found in fits header\n",
      "INFO:pst.pipeline.triggers:### Warning: no DATE-OBS found in fits header\n",
      "INFO:pst.pipeline.triggers:### Warning: no MJD-OBS found in fits header\n",
      "INFO:pst.pipeline.triggers:### Warning: no OBJECT found in fits header\n",
      "INFO:pst.pipeline.triggers:### Warning: no INSTRUME found in fits header\n",
      "INFO:pst.pipeline.triggers:### Warning: no CREATOR found in fits header\n"
     ]
    },
    {
     "data": {
      "text/plain": [
       "''"
      ]
     },
     "execution_count": 31,
     "metadata": {},
     "output_type": "execute_result"
    }
   ],
   "source": [
    "b.make_report()"
   ]
  },
  {
   "cell_type": "code",
   "execution_count": 32,
   "metadata": {},
   "outputs": [],
   "source": [
    "config={'wdir':None, 'savefits':None, 'nside': 512, 'coord':'C','cls':[.5],'style':'slack'}"
   ]
  },
  {
   "cell_type": "code",
   "execution_count": 33,
   "metadata": {},
   "outputs": [],
   "source": [
    "c=PstParseTriggers(defconf=config)"
   ]
  },
  {
   "cell_type": "code",
   "execution_count": 34,
   "metadata": {},
   "outputs": [
    {
     "name": "stdout",
     "output_type": "stream",
     "text": [
      "Sigma is 254.796540 arcmin (0.074117 rad) \n",
      "-> fwhm is 600.000000 arcmin\n",
      "Sigma is 0.000000 arcmin (0.000000 rad) \n",
      "-> fwhm is 0.000000 arcmin\n"
     ]
    }
   ],
   "source": [
    "c.coo([30,-20,10])"
   ]
  },
  {
   "cell_type": "code",
   "execution_count": 35,
   "metadata": {},
   "outputs": [
    {
     "data": {
      "text/plain": [
       "{'hpmap': array([8.92728175e-11, 8.92185286e-11, 8.91040539e-11, ...,\n",
       "        6.12155463e-11, 6.08690152e-11, 6.10351951e-11]),\n",
       " 'xmlinf': None,\n",
       " 'fithdr': None}"
      ]
     },
     "execution_count": 35,
     "metadata": {},
     "output_type": "execute_result"
    }
   ],
   "source": [
    "c.data"
   ]
  },
  {
   "cell_type": "code",
   "execution_count": 36,
   "metadata": {},
   "outputs": [
    {
     "name": "stderr",
     "output_type": "stream",
     "text": [
      "INFO:pst.pipeline.triggers:hpmap has already been parsed\n"
     ]
    },
    {
     "data": {
      "text/plain": [
       "{0.5: 78.40838601121199}"
      ]
     },
     "execution_count": 36,
     "metadata": {},
     "output_type": "execute_result"
    }
   ],
   "source": [
    "c.calc_area()"
   ]
  },
  {
   "cell_type": "markdown",
   "metadata": {},
   "source": [
    "# plots"
   ]
  },
  {
   "cell_type": "code",
   "execution_count": 37,
   "metadata": {},
   "outputs": [],
   "source": [
    "from pst.view.show import PstPlotter"
   ]
  },
  {
   "cell_type": "code",
   "execution_count": 38,
   "metadata": {},
   "outputs": [
    {
     "ename": "NameError",
     "evalue": "name 'logging' is not defined",
     "output_type": "error",
     "traceback": [
      "\u001b[0;31m---------------------------------------------------------------------------\u001b[0m",
      "\u001b[0;31mNameError\u001b[0m                                 Traceback (most recent call last)",
      "\u001b[0;32m<ipython-input-38-7525fe55529b>\u001b[0m in \u001b[0;36m<module>\u001b[0;34m\u001b[0m\n\u001b[0;32m----> 1\u001b[0;31m \u001b[0m_plot\u001b[0m\u001b[0;34m=\u001b[0m\u001b[0mPstPlotter\u001b[0m\u001b[0;34m(\u001b[0m\u001b[0;34m)\u001b[0m\u001b[0;34m\u001b[0m\u001b[0;34m\u001b[0m\u001b[0m\n\u001b[0m",
      "\u001b[0;32m/opt/miniconda3/envs/astroconda/lib/python3.6/site-packages/pstools-0.0.1-py3.6.egg/pst/view/show.py\u001b[0m in \u001b[0;36m__init__\u001b[0;34m(self, interactive, plot_dir, plot_name_tmpl, logger)\u001b[0m\n\u001b[1;32m     35\u001b[0m         \u001b[0;31m# ----- define logger ----- #\u001b[0m\u001b[0;34m\u001b[0m\u001b[0;34m\u001b[0m\u001b[0;34m\u001b[0m\u001b[0m\n\u001b[1;32m     36\u001b[0m         \u001b[0;32mif\u001b[0m \u001b[0mlogger\u001b[0m \u001b[0;32mis\u001b[0m \u001b[0;32mNone\u001b[0m\u001b[0;34m:\u001b[0m\u001b[0;34m\u001b[0m\u001b[0;34m\u001b[0m\u001b[0m\n\u001b[0;32m---> 37\u001b[0;31m             \u001b[0mlogging\u001b[0m\u001b[0;34m.\u001b[0m\u001b[0mbasicConfig\u001b[0m\u001b[0;34m(\u001b[0m\u001b[0mlevel\u001b[0m \u001b[0;34m=\u001b[0m \u001b[0mlogging\u001b[0m\u001b[0;34m.\u001b[0m\u001b[0mINFO\u001b[0m\u001b[0;34m)\u001b[0m\u001b[0;34m\u001b[0m\u001b[0;34m\u001b[0m\u001b[0m\n\u001b[0m\u001b[1;32m     38\u001b[0m             \u001b[0mself\u001b[0m\u001b[0;34m.\u001b[0m\u001b[0mlogger\u001b[0m \u001b[0;34m=\u001b[0m \u001b[0mlogging\u001b[0m\u001b[0;34m.\u001b[0m\u001b[0mgetLogger\u001b[0m\u001b[0;34m(\u001b[0m\u001b[0m__name__\u001b[0m\u001b[0;34m)\u001b[0m\u001b[0;34m\u001b[0m\u001b[0;34m\u001b[0m\u001b[0m\n\u001b[1;32m     39\u001b[0m         \u001b[0;32melse\u001b[0m\u001b[0;34m:\u001b[0m\u001b[0;34m\u001b[0m\u001b[0;34m\u001b[0m\u001b[0m\n",
      "\u001b[0;31mNameError\u001b[0m: name 'logging' is not defined"
     ]
    }
   ],
   "source": [
    "_plot=PstPlotter()"
   ]
  },
  {
   "cell_type": "code",
   "execution_count": null,
   "metadata": {},
   "outputs": [],
   "source": []
  }
 ],
 "metadata": {
  "kernelspec": {
   "display_name": "Python [conda env:astroconda] *",
   "language": "python",
   "name": "conda-env-astroconda-py"
  },
  "language_info": {
   "codemirror_mode": {
    "name": "ipython",
    "version": 3
   },
   "file_extension": ".py",
   "mimetype": "text/x-python",
   "name": "python",
   "nbconvert_exporter": "python",
   "pygments_lexer": "ipython3",
   "version": "3.6.7"
  }
 },
 "nbformat": 4,
 "nbformat_minor": 2
}
