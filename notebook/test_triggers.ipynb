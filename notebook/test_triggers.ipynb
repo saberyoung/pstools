{
 "cells": [
  {
   "cell_type": "markdown",
   "metadata": {},
   "source": [
    "import module"
   ]
  },
  {
   "cell_type": "code",
   "execution_count": 3,
   "metadata": {},
   "outputs": [],
   "source": [
    "from pst.pipeline.triggers import PstParseTriggers"
   ]
  },
  {
   "cell_type": "markdown",
   "metadata": {},
   "source": [
    "initialize a new trigger object, a"
   ]
  },
  {
   "cell_type": "code",
   "execution_count": 4,
   "metadata": {},
   "outputs": [],
   "source": [
    "a=PstParseTriggers()"
   ]
  },
  {
   "cell_type": "code",
   "execution_count": 5,
   "metadata": {},
   "outputs": [
    {
     "data": {
      "text/plain": [
       "<pst.pipeline.triggers.PstParseTriggers at 0x122d9a5f8>"
      ]
     },
     "execution_count": 5,
     "metadata": {},
     "output_type": "execute_result"
    }
   ],
   "source": [
    "a"
   ]
  },
  {
   "cell_type": "markdown",
   "metadata": {},
   "source": [
    "there're 3 attributes: healpix map, header, and xml informations (only if source was xml or root)"
   ]
  },
  {
   "cell_type": "code",
   "execution_count": 6,
   "metadata": {},
   "outputs": [
    {
     "data": {
      "text/plain": [
       "{'hpmap': None, 'xmlinf': None, 'fithdr': None}"
      ]
     },
     "execution_count": 6,
     "metadata": {},
     "output_type": "execute_result"
    }
   ],
   "source": [
    "a.data_list()"
   ]
  },
  {
   "cell_type": "markdown",
   "metadata": {},
   "source": [
    "obtain trigger informations from one source (url, fits, xml, root, coo)"
   ]
  },
  {
   "cell_type": "markdown",
   "metadata": {},
   "source": [
    "here, try url source: url(self, url, wdir=None, savefits=None)"
   ]
  },
  {
   "cell_type": "code",
   "execution_count": 7,
   "metadata": {},
   "outputs": [
    {
     "name": "stdout",
     "output_type": "stream",
     "text": [
      "NSIDE = 512\n",
      "ORDERING = NESTED in fits file\n",
      "INDXSCHM = IMPLICIT\n",
      "Ordering converted to RING\n",
      "Ordering converted to RING\n",
      "Ordering converted to RING\n",
      "Ordering converted to RING\n"
     ]
    }
   ],
   "source": [
    "a.url('https://gracedb.ligo.org/api/superevents/S190510g/files/bayestar.fits.gz')"
   ]
  },
  {
   "cell_type": "markdown",
   "metadata": {},
   "source": [
    "show trigger attributes again"
   ]
  },
  {
   "cell_type": "code",
   "execution_count": 8,
   "metadata": {},
   "outputs": [
    {
     "data": {
      "text/plain": [
       "{'hpmap': array([[1.25419392e-07, 1.62144031e-07, 1.79526856e-07, ...,\n",
       "         2.46590458e-10, 9.75865543e-10, 6.87730424e-10],\n",
       "        [1.44844886e+02, 1.54923595e+02, 1.40961397e+02, ...,\n",
       "         2.72896179e+02, 2.21541076e+02, 2.82526517e+02],\n",
       "        [1.41256230e+02, 1.39624119e+02, 1.41143310e+02, ...,\n",
       "         1.68491517e+02, 1.68595934e+02, 1.55918798e+02],\n",
       "        [2.53084235e-05, 2.36136978e-05, 2.61189424e-05, ...,\n",
       "         9.76686037e-06, 1.30767396e-05, 9.62544372e-06]]),\n",
       " 'xmlinf': None,\n",
       " 'fithdr': {'XTENSION': 'BINTABLE',\n",
       "  'BITPIX': 8,\n",
       "  'NAXIS': 2,\n",
       "  'NAXIS1': 32,\n",
       "  'NAXIS2': 3145728,\n",
       "  'PCOUNT': 0,\n",
       "  'GCOUNT': 1,\n",
       "  'TFIELDS': 4,\n",
       "  'TTYPE1': 'PROB',\n",
       "  'TFORM1': 'D',\n",
       "  'TUNIT1': 'pix-1',\n",
       "  'TTYPE2': 'DISTMU',\n",
       "  'TFORM2': 'D',\n",
       "  'TUNIT2': 'Mpc',\n",
       "  'TTYPE3': 'DISTSIGMA',\n",
       "  'TFORM3': 'D',\n",
       "  'TUNIT3': 'Mpc',\n",
       "  'TTYPE4': 'DISTNORM',\n",
       "  'TFORM4': 'D',\n",
       "  'TUNIT4': 'Mpc-2',\n",
       "  'MOC': True,\n",
       "  'PIXTYPE': 'HEALPIX',\n",
       "  'ORDERING': 'NESTED',\n",
       "  'COORDSYS': 'C',\n",
       "  'NSIDE': 512,\n",
       "  'INDXSCHM': 'IMPLICIT',\n",
       "  'OBJECT': 'G331903',\n",
       "  'REFERENC': 'https://gracedb.ligo.org/events/G331903',\n",
       "  'INSTRUME': 'H1,L1,V1',\n",
       "  'DATE-OBS': '2019-05-10T02:59:39.292500',\n",
       "  'MJD-OBS': 58613.12476032978,\n",
       "  'DATE': '2019-05-10T03:00:47.000000',\n",
       "  'CREATOR': 'BAYESTAR',\n",
       "  'ORIGIN': 'LIGO/Virgo',\n",
       "  'RUNTIME': 18.0,\n",
       "  'DISTMEAN': 268.8566049372629,\n",
       "  'DISTSTD': 108.0709050006497,\n",
       "  'LOGBCI': 0.6949211109947058,\n",
       "  'LOGBSN': 7.032293281836687,\n",
       "  'VCSVERS': 'ligo.skymap 0.1.6',\n",
       "  'VCSREV': '79504ec9fb1890fa91665bd69d7aa66cdaf11184',\n",
       "  'DATE-BLD': '2019-03-26T18:11:21',\n",
       "  'HISTORY': 'gwcelery worker -l info -n gwcelery-openmp-worker -Q openmp -c 1'}}"
      ]
     },
     "execution_count": 8,
     "metadata": {},
     "output_type": "execute_result"
    }
   ],
   "source": [
    "a.data_list()"
   ]
  },
  {
   "cell_type": "markdown",
   "metadata": {},
   "source": [
    "now, make a summary report for trigger a, since it's coming from healpix fits, there would be no informations from voevent xml"
   ]
  },
  {
   "cell_type": "code",
   "execution_count": 9,
   "metadata": {},
   "outputs": [
    {
     "name": "stderr",
     "output_type": "stream",
     "text": [
      "INFO:pst.pipeline.triggers:### Warning: no GraceID found in voevent\n",
      "INFO:pst.pipeline.triggers:### Warning: no AlertType found in voevent\n",
      "INFO:pst.pipeline.triggers:### Warning: no Group found in voevent\n",
      "INFO:pst.pipeline.triggers:### Warning: no FAR found in voevent\n",
      "INFO:pst.pipeline.triggers:### Warning: no Terrestrial found in voevent\n",
      "INFO:pst.pipeline.triggers:### Warning: no HasNS found in voevent\n",
      "INFO:pst.pipeline.triggers:### Warning: no HasRemnant found in voevent\n",
      "INFO:pst.pipeline.triggers:### Warning: no BNS found in voevent\n",
      "INFO:pst.pipeline.triggers:### Warning: no BBH found in voevent\n",
      "INFO:pst.pipeline.triggers:### Warning: no NSBH found in voevent\n",
      "INFO:pst.pipeline.triggers:### Warning: no Instruments found in voevent\n",
      "INFO:pst.pipeline.triggers:### Warning: no EventPage found in voevent\n"
     ]
    },
    {
     "data": {
      "text/plain": [
       "'DISTMEAN:268.8566049372629 DISTSTD:108.0709050006497 DATE-OBS:2019-05-10T02:59:39.292500 MJD-OBS:58613.12476032978 OBJECT:G331903 INSTRUME:H1,L1,V1 CREATOR:BAYESTAR '"
      ]
     },
     "execution_count": 9,
     "metadata": {},
     "output_type": "execute_result"
    }
   ],
   "source": [
    "a.make_report()"
   ]
  },
  {
   "cell_type": "markdown",
   "metadata": {},
   "source": [
    "then, estimate the area of trigger in different confidence level"
   ]
  },
  {
   "cell_type": "code",
   "execution_count": 10,
   "metadata": {},
   "outputs": [
    {
     "name": "stderr",
     "output_type": "stream",
     "text": [
      "INFO:pst.pipeline.triggers:hpmap has already been parsed\n"
     ]
    },
    {
     "data": {
      "text/plain": [
       "{0.5: 575.5456172035578, 0.9: 3463.7648737864856}"
      ]
     },
     "execution_count": 10,
     "metadata": {},
     "output_type": "execute_result"
    }
   ],
   "source": [
    "a.calc_area()"
   ]
  },
  {
   "cell_type": "code",
   "execution_count": 11,
   "metadata": {},
   "outputs": [
    {
     "name": "stderr",
     "output_type": "stream",
     "text": [
      "INFO:pst.pipeline.triggers:hpmap has already been parsed\n"
     ]
    },
    {
     "data": {
      "text/plain": [
       "{0.1: 36.351906008208665,\n",
       " 0.5: 575.5456172035578,\n",
       " 0.9: 3463.7648737864856,\n",
       " 0.99: 11508.39446313552}"
      ]
     },
     "execution_count": 11,
     "metadata": {},
     "output_type": "execute_result"
    }
   ],
   "source": [
    "a.calc_area(cls=[.1,.5,.9,.99])"
   ]
  },
  {
   "cell_type": "markdown",
   "metadata": {},
   "source": [
    "since now a is already occupied by one source, now it's not allowed to inject again a new source. in order to do so, one need to first remove the source there"
   ]
  },
  {
   "cell_type": "code",
   "execution_count": 12,
   "metadata": {},
   "outputs": [],
   "source": [
    "a.resetall()"
   ]
  },
  {
   "cell_type": "code",
   "execution_count": 13,
   "metadata": {},
   "outputs": [
    {
     "data": {
      "text/plain": [
       "{'hpmap': None, 'xmlinf': None, 'fithdr': None}"
      ]
     },
     "execution_count": 13,
     "metadata": {},
     "output_type": "execute_result"
    }
   ],
   "source": [
    "a.data_list()"
   ]
  }
 ],
 "metadata": {
  "kernelspec": {
   "display_name": "Python [conda env:astroconda] *",
   "language": "python",
   "name": "conda-env-astroconda-py"
  },
  "language_info": {
   "codemirror_mode": {
    "name": "ipython",
    "version": 3
   },
   "file_extension": ".py",
   "mimetype": "text/x-python",
   "name": "python",
   "nbconvert_exporter": "python",
   "pygments_lexer": "ipython3",
   "version": "3.6.7"
  }
 },
 "nbformat": 4,
 "nbformat_minor": 2
}
