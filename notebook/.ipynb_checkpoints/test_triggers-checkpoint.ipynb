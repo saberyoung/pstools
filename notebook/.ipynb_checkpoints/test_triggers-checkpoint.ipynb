{
 "cells": [
  {
   "cell_type": "markdown",
   "metadata": {},
   "source": [
    "# Some examples show how to use pst.PstParseTriggers"
   ]
  },
  {
   "cell_type": "markdown",
   "metadata": {},
   "source": [
    "import module and initialize a new trigger object, a"
   ]
  },
  {
   "cell_type": "code",
   "execution_count": 1,
   "metadata": {
    "scrolled": true
   },
   "outputs": [
    {
     "data": {
      "text/plain": [
       "<pst.pipeline.PstParseTriggers.PstParseTriggers at 0x10507e7f0>"
      ]
     },
     "execution_count": 1,
     "metadata": {},
     "output_type": "execute_result"
    }
   ],
   "source": [
    "from pst.pipeline.PstParseTriggers import PstParseTriggers\n",
    "a=PstParseTriggers()\n",
    "a"
   ]
  },
  {
   "cell_type": "markdown",
   "metadata": {},
   "source": [
    "for a, there're 3 attributes: healpix map, healpix header, and voevent xml informations"
   ]
  },
  {
   "cell_type": "code",
   "execution_count": 2,
   "metadata": {
    "scrolled": true
   },
   "outputs": [
    {
     "data": {
      "text/plain": [
       "{'hpmap': None, 'xmlinf': None, 'fithdr': None}"
      ]
     },
     "execution_count": 2,
     "metadata": {},
     "output_type": "execute_result"
    }
   ],
   "source": [
    "a.data_list()"
   ]
  },
  {
   "cell_type": "markdown",
   "metadata": {},
   "source": [
    "fist, you need to parse trigger informations via one source: url, fits, xml, root, coo"
   ]
  },
  {
   "cell_type": "code",
   "execution_count": 3,
   "metadata": {
    "scrolled": true
   },
   "outputs": [
    {
     "name": "stdout",
     "output_type": "stream",
     "text": [
      "NSIDE = 512\n",
      "ORDERING = NESTED in fits file\n",
      "INDXSCHM = IMPLICIT\n",
      "Ordering converted to RING\n",
      "Ordering converted to RING\n",
      "Ordering converted to RING\n",
      "Ordering converted to RING\n"
     ]
    },
    {
     "data": {
      "text/plain": [
       "{'hpmap': array([[1.25419392e-07, 1.62144031e-07, 1.79526856e-07, ...,\n",
       "         2.46590458e-10, 9.75865543e-10, 6.87730424e-10],\n",
       "        [1.44844886e+02, 1.54923595e+02, 1.40961397e+02, ...,\n",
       "         2.72896179e+02, 2.21541076e+02, 2.82526517e+02],\n",
       "        [1.41256230e+02, 1.39624119e+02, 1.41143310e+02, ...,\n",
       "         1.68491517e+02, 1.68595934e+02, 1.55918798e+02],\n",
       "        [2.53084235e-05, 2.36136978e-05, 2.61189424e-05, ...,\n",
       "         9.76686037e-06, 1.30767396e-05, 9.62544372e-06]]),\n",
       " 'xmlinf': None,\n",
       " 'fithdr': {'XTENSION': 'BINTABLE',\n",
       "  'BITPIX': 8,\n",
       "  'NAXIS': 2,\n",
       "  'NAXIS1': 32,\n",
       "  'NAXIS2': 3145728,\n",
       "  'PCOUNT': 0,\n",
       "  'GCOUNT': 1,\n",
       "  'TFIELDS': 4,\n",
       "  'TTYPE1': 'PROB',\n",
       "  'TFORM1': 'D',\n",
       "  'TUNIT1': 'pix-1',\n",
       "  'TTYPE2': 'DISTMU',\n",
       "  'TFORM2': 'D',\n",
       "  'TUNIT2': 'Mpc',\n",
       "  'TTYPE3': 'DISTSIGMA',\n",
       "  'TFORM3': 'D',\n",
       "  'TUNIT3': 'Mpc',\n",
       "  'TTYPE4': 'DISTNORM',\n",
       "  'TFORM4': 'D',\n",
       "  'TUNIT4': 'Mpc-2',\n",
       "  'MOC': True,\n",
       "  'PIXTYPE': 'HEALPIX',\n",
       "  'ORDERING': 'NESTED',\n",
       "  'COORDSYS': 'C',\n",
       "  'NSIDE': 512,\n",
       "  'INDXSCHM': 'IMPLICIT',\n",
       "  'OBJECT': 'G331903',\n",
       "  'REFERENC': 'https://gracedb.ligo.org/events/G331903',\n",
       "  'INSTRUME': 'H1,L1,V1',\n",
       "  'DATE-OBS': '2019-05-10T02:59:39.292500',\n",
       "  'MJD-OBS': 58613.12476032978,\n",
       "  'DATE': '2019-05-10T03:00:47.000000',\n",
       "  'CREATOR': 'BAYESTAR',\n",
       "  'ORIGIN': 'LIGO/Virgo',\n",
       "  'RUNTIME': 18.0,\n",
       "  'DISTMEAN': 268.8566049372629,\n",
       "  'DISTSTD': 108.0709050006497,\n",
       "  'LOGBCI': 0.6949211109947058,\n",
       "  'LOGBSN': 7.032293281836687,\n",
       "  'VCSVERS': 'ligo.skymap 0.1.6',\n",
       "  'VCSREV': '79504ec9fb1890fa91665bd69d7aa66cdaf11184',\n",
       "  'DATE-BLD': '2019-03-26T18:11:21',\n",
       "  'HISTORY': 'gwcelery worker -l info -n gwcelery-openmp-worker -Q openmp -c 1'}}"
      ]
     },
     "execution_count": 3,
     "metadata": {},
     "output_type": "execute_result"
    }
   ],
   "source": [
    "# if you know the skymap url\n",
    "a.url('https://gracedb.ligo.org/api/superevents/S190510g/files/bayestar.fits.gz')\n",
    "a.data_list()"
   ]
  },
  {
   "cell_type": "code",
   "execution_count": 7,
   "metadata": {},
   "outputs": [
    {
     "name": "stdout",
     "output_type": "stream",
     "text": [
      "LVC#S190510g-2-Initial.xml              test_tilings.ipynb\r\n",
      "LVC#S190510g-2-Initial_bayestar.fits.gz test_tilings.py\r\n",
      "icecube_ehe.xml                         test_tilings.py~\r\n",
      "test_galaxies.ipynb                     test_triggers.ipynb\r\n",
      "test_plot.ipynb\r\n"
     ]
    }
   ],
   "source": [
    "!ls"
   ]
  },
  {
   "cell_type": "code",
   "execution_count": 8,
   "metadata": {},
   "outputs": [
    {
     "name": "stdout",
     "output_type": "stream",
     "text": [
      "NSIDE = 512\n",
      "ORDERING = NESTED in fits file\n",
      "INDXSCHM = IMPLICIT\n",
      "Ordering converted to RING\n",
      "Ordering converted to RING\n",
      "Ordering converted to RING\n",
      "Ordering converted to RING\n"
     ]
    },
    {
     "data": {
      "text/plain": [
       "{'hpmap': array([[1.25419392e-07, 1.62144031e-07, 1.79526856e-07, ...,\n",
       "         2.46590458e-10, 9.75865543e-10, 6.87730424e-10],\n",
       "        [1.44844886e+02, 1.54923595e+02, 1.40961397e+02, ...,\n",
       "         2.72896179e+02, 2.21541076e+02, 2.82526517e+02],\n",
       "        [1.41256230e+02, 1.39624119e+02, 1.41143310e+02, ...,\n",
       "         1.68491517e+02, 1.68595934e+02, 1.55918798e+02],\n",
       "        [2.53084235e-05, 2.36136978e-05, 2.61189424e-05, ...,\n",
       "         9.76686037e-06, 1.30767396e-05, 9.62544372e-06]]),\n",
       " 'xmlinf': None,\n",
       " 'fithdr': {'XTENSION': 'BINTABLE',\n",
       "  'BITPIX': 8,\n",
       "  'NAXIS': 2,\n",
       "  'NAXIS1': 32,\n",
       "  'NAXIS2': 3145728,\n",
       "  'PCOUNT': 0,\n",
       "  'GCOUNT': 1,\n",
       "  'TFIELDS': 4,\n",
       "  'TTYPE1': 'PROB',\n",
       "  'TFORM1': 'D',\n",
       "  'TUNIT1': 'pix-1',\n",
       "  'TTYPE2': 'DISTMU',\n",
       "  'TFORM2': 'D',\n",
       "  'TUNIT2': 'Mpc',\n",
       "  'TTYPE3': 'DISTSIGMA',\n",
       "  'TFORM3': 'D',\n",
       "  'TUNIT3': 'Mpc',\n",
       "  'TTYPE4': 'DISTNORM',\n",
       "  'TFORM4': 'D',\n",
       "  'TUNIT4': 'Mpc-2',\n",
       "  'MOC': True,\n",
       "  'PIXTYPE': 'HEALPIX',\n",
       "  'ORDERING': 'NESTED',\n",
       "  'COORDSYS': 'C',\n",
       "  'NSIDE': 512,\n",
       "  'INDXSCHM': 'IMPLICIT',\n",
       "  'OBJECT': 'G331903',\n",
       "  'REFERENC': 'https://gracedb.ligo.org/events/G331903',\n",
       "  'INSTRUME': 'H1,L1,V1',\n",
       "  'DATE-OBS': '2019-05-10T02:59:39.292500',\n",
       "  'MJD-OBS': 58613.12476032978,\n",
       "  'DATE': '2019-05-10T03:00:47.000000',\n",
       "  'CREATOR': 'BAYESTAR',\n",
       "  'ORIGIN': 'LIGO/Virgo',\n",
       "  'RUNTIME': 18.0,\n",
       "  'DISTMEAN': 268.8566049372629,\n",
       "  'DISTSTD': 108.0709050006497,\n",
       "  'LOGBCI': 0.6949211109947058,\n",
       "  'LOGBSN': 7.032293281836687,\n",
       "  'VCSVERS': 'ligo.skymap 0.1.6',\n",
       "  'VCSREV': '79504ec9fb1890fa91665bd69d7aa66cdaf11184',\n",
       "  'DATE-BLD': '2019-03-26T18:11:21',\n",
       "  'HISTORY': 'gwcelery worker -l info -n gwcelery-openmp-worker -Q openmp -c 1'}}"
      ]
     },
     "execution_count": 8,
     "metadata": {},
     "output_type": "execute_result"
    }
   ],
   "source": [
    "# if you have the skymap file\n",
    "# Notice: if a is parsed already, reset it first\n",
    "a.resetall()\n",
    "a.fits('LVC#S190510g-2-Initial_bayestar.fits.gz')\n",
    "a.data_list()"
   ]
  },
  {
   "cell_type": "code",
   "execution_count": 9,
   "metadata": {},
   "outputs": [
    {
     "name": "stderr",
     "output_type": "stream",
     "text": [
      "INFO:pst.pipeline.PstParseTriggers:running with lxml.etree\n",
      "INFO:pst.pipeline.PstParseTriggers:### Warning: no C1 found in voevent\n",
      "INFO:pst.pipeline.PstParseTriggers:### Warning: no C2 found in voevent\n",
      "INFO:pst.pipeline.PstParseTriggers:### Warning: no Error2Radius found in voevent\n",
      "INFO:pst.pipeline.PstParseTriggers:obtain hpmap via skymap_fits\n"
     ]
    },
    {
     "name": "stdout",
     "output_type": "stream",
     "text": [
      "NSIDE = 512\n",
      "ORDERING = NESTED in fits file\n",
      "INDXSCHM = IMPLICIT\n",
      "Ordering converted to RING\n",
      "Ordering converted to RING\n",
      "Ordering converted to RING\n",
      "Ordering converted to RING\n"
     ]
    },
    {
     "data": {
      "text/plain": [
       "{'hpmap': array([[1.25419392e-07, 1.62144031e-07, 1.79526856e-07, ...,\n",
       "         2.46590458e-10, 9.75865543e-10, 6.87730424e-10],\n",
       "        [1.44844886e+02, 1.54923595e+02, 1.40961397e+02, ...,\n",
       "         2.72896179e+02, 2.21541076e+02, 2.82526517e+02],\n",
       "        [1.41256230e+02, 1.39624119e+02, 1.41143310e+02, ...,\n",
       "         1.68491517e+02, 1.68595934e+02, 1.55918798e+02],\n",
       "        [2.53084235e-05, 2.36136978e-05, 2.61189424e-05, ...,\n",
       "         9.76686037e-06, 1.30767396e-05, 9.62544372e-06]]),\n",
       " 'xmlinf': {'Packet_Type': '151',\n",
       "  'internal': '0',\n",
       "  'Pkt_Ser_Num': '2',\n",
       "  'GraceID': 'S190510g',\n",
       "  'AlertType': 'Initial',\n",
       "  'HardwareInj': '0',\n",
       "  'OpenAlert': '1',\n",
       "  'EventPage': 'https://gracedb.ligo.org/superevents/S190510g/view/',\n",
       "  'Instruments': 'H1,L1,V1',\n",
       "  'FAR': '8.42945108717e-10',\n",
       "  'Group': 'CBC',\n",
       "  'Pipeline': 'gstlal',\n",
       "  'Search': 'AllSky',\n",
       "  'skymap_fits': 'https://gracedb.ligo.org/api/superevents/S190510g/files/bayestar.fits.gz',\n",
       "  'BNS': '0.979698536622',\n",
       "  'NSBH': '0.0',\n",
       "  'BBH': '0.0',\n",
       "  'MassGap': '0.0',\n",
       "  'Terrestrial': '0.0203014633781',\n",
       "  'HasNS': '1.0',\n",
       "  'HasRemnant': '1.0'},\n",
       " 'fithdr': {'XTENSION': 'BINTABLE',\n",
       "  'BITPIX': 8,\n",
       "  'NAXIS': 2,\n",
       "  'NAXIS1': 32,\n",
       "  'NAXIS2': 3145728,\n",
       "  'PCOUNT': 0,\n",
       "  'GCOUNT': 1,\n",
       "  'TFIELDS': 4,\n",
       "  'TTYPE1': 'PROB',\n",
       "  'TFORM1': 'D',\n",
       "  'TUNIT1': 'pix-1',\n",
       "  'TTYPE2': 'DISTMU',\n",
       "  'TFORM2': 'D',\n",
       "  'TUNIT2': 'Mpc',\n",
       "  'TTYPE3': 'DISTSIGMA',\n",
       "  'TFORM3': 'D',\n",
       "  'TUNIT3': 'Mpc',\n",
       "  'TTYPE4': 'DISTNORM',\n",
       "  'TFORM4': 'D',\n",
       "  'TUNIT4': 'Mpc-2',\n",
       "  'MOC': True,\n",
       "  'PIXTYPE': 'HEALPIX',\n",
       "  'ORDERING': 'NESTED',\n",
       "  'COORDSYS': 'C',\n",
       "  'NSIDE': 512,\n",
       "  'INDXSCHM': 'IMPLICIT',\n",
       "  'OBJECT': 'G331903',\n",
       "  'REFERENC': 'https://gracedb.ligo.org/events/G331903',\n",
       "  'INSTRUME': 'H1,L1,V1',\n",
       "  'DATE-OBS': '2019-05-10T02:59:39.292500',\n",
       "  'MJD-OBS': 58613.12476032978,\n",
       "  'DATE': '2019-05-10T03:00:47.000000',\n",
       "  'CREATOR': 'BAYESTAR',\n",
       "  'ORIGIN': 'LIGO/Virgo',\n",
       "  'RUNTIME': 18.0,\n",
       "  'DISTMEAN': 268.8566049372629,\n",
       "  'DISTSTD': 108.0709050006497,\n",
       "  'LOGBCI': 0.6949211109947058,\n",
       "  'LOGBSN': 7.032293281836687,\n",
       "  'VCSVERS': 'ligo.skymap 0.1.6',\n",
       "  'VCSREV': '79504ec9fb1890fa91665bd69d7aa66cdaf11184',\n",
       "  'DATE-BLD': '2019-03-26T18:11:21',\n",
       "  'HISTORY': 'gwcelery worker -l info -n gwcelery-openmp-worker -Q openmp -c 1'}}"
      ]
     },
     "execution_count": 9,
     "metadata": {},
     "output_type": "execute_result"
    }
   ],
   "source": [
    "# if you have the voevent xml file\n",
    "a.resetall()\n",
    "a.xml('LVC#S190510g-2-Initial.xml')\n",
    "a.data_list()"
   ]
  },
  {
   "cell_type": "code",
   "execution_count": 10,
   "metadata": {},
   "outputs": [
    {
     "name": "stderr",
     "output_type": "stream",
     "text": [
      "INFO:pst.pipeline.PstParseTriggers:### Warning: no C1 found in voevent\n",
      "INFO:pst.pipeline.PstParseTriggers:### Warning: no C2 found in voevent\n",
      "INFO:pst.pipeline.PstParseTriggers:### Warning: no Error2Radius found in voevent\n",
      "INFO:pst.pipeline.PstParseTriggers:obtain hpmap via skymap_fits\n"
     ]
    },
    {
     "name": "stdout",
     "output_type": "stream",
     "text": [
      "NSIDE = 512\n",
      "ORDERING = NESTED in fits file\n",
      "INDXSCHM = IMPLICIT\n",
      "Ordering converted to RING\n",
      "Ordering converted to RING\n",
      "Ordering converted to RING\n",
      "Ordering converted to RING\n"
     ]
    },
    {
     "data": {
      "text/plain": [
       "{'hpmap': array([[1.25419392e-07, 1.62144031e-07, 1.79526856e-07, ...,\n",
       "         2.46590458e-10, 9.75865543e-10, 6.87730424e-10],\n",
       "        [1.44844886e+02, 1.54923595e+02, 1.40961397e+02, ...,\n",
       "         2.72896179e+02, 2.21541076e+02, 2.82526517e+02],\n",
       "        [1.41256230e+02, 1.39624119e+02, 1.41143310e+02, ...,\n",
       "         1.68491517e+02, 1.68595934e+02, 1.55918798e+02],\n",
       "        [2.53084235e-05, 2.36136978e-05, 2.61189424e-05, ...,\n",
       "         9.76686037e-06, 1.30767396e-05, 9.62544372e-06]]),\n",
       " 'xmlinf': {'Packet_Type': '151',\n",
       "  'internal': '0',\n",
       "  'Pkt_Ser_Num': '2',\n",
       "  'GraceID': 'S190510g',\n",
       "  'AlertType': 'Initial',\n",
       "  'HardwareInj': '0',\n",
       "  'OpenAlert': '1',\n",
       "  'EventPage': 'https://gracedb.ligo.org/superevents/S190510g/view/',\n",
       "  'Instruments': 'H1,L1,V1',\n",
       "  'FAR': '8.42945108717e-10',\n",
       "  'Group': 'CBC',\n",
       "  'Pipeline': 'gstlal',\n",
       "  'Search': 'AllSky',\n",
       "  'skymap_fits': 'https://gracedb.ligo.org/api/superevents/S190510g/files/bayestar.fits.gz',\n",
       "  'BNS': '0.979698536622',\n",
       "  'NSBH': '0.0',\n",
       "  'BBH': '0.0',\n",
       "  'MassGap': '0.0',\n",
       "  'Terrestrial': '0.0203014633781',\n",
       "  'HasNS': '1.0',\n",
       "  'HasRemnant': '1.0'},\n",
       " 'fithdr': {'XTENSION': 'BINTABLE',\n",
       "  'BITPIX': 8,\n",
       "  'NAXIS': 2,\n",
       "  'NAXIS1': 32,\n",
       "  'NAXIS2': 3145728,\n",
       "  'PCOUNT': 0,\n",
       "  'GCOUNT': 1,\n",
       "  'TFIELDS': 4,\n",
       "  'TTYPE1': 'PROB',\n",
       "  'TFORM1': 'D',\n",
       "  'TUNIT1': 'pix-1',\n",
       "  'TTYPE2': 'DISTMU',\n",
       "  'TFORM2': 'D',\n",
       "  'TUNIT2': 'Mpc',\n",
       "  'TTYPE3': 'DISTSIGMA',\n",
       "  'TFORM3': 'D',\n",
       "  'TUNIT3': 'Mpc',\n",
       "  'TTYPE4': 'DISTNORM',\n",
       "  'TFORM4': 'D',\n",
       "  'TUNIT4': 'Mpc-2',\n",
       "  'MOC': True,\n",
       "  'PIXTYPE': 'HEALPIX',\n",
       "  'ORDERING': 'NESTED',\n",
       "  'COORDSYS': 'C',\n",
       "  'NSIDE': 512,\n",
       "  'INDXSCHM': 'IMPLICIT',\n",
       "  'OBJECT': 'G331903',\n",
       "  'REFERENC': 'https://gracedb.ligo.org/events/G331903',\n",
       "  'INSTRUME': 'H1,L1,V1',\n",
       "  'DATE-OBS': '2019-05-10T02:59:39.292500',\n",
       "  'MJD-OBS': 58613.12476032978,\n",
       "  'DATE': '2019-05-10T03:00:47.000000',\n",
       "  'CREATOR': 'BAYESTAR',\n",
       "  'ORIGIN': 'LIGO/Virgo',\n",
       "  'RUNTIME': 18.0,\n",
       "  'DISTMEAN': 268.8566049372629,\n",
       "  'DISTSTD': 108.0709050006497,\n",
       "  'LOGBCI': 0.6949211109947058,\n",
       "  'LOGBSN': 7.032293281836687,\n",
       "  'VCSVERS': 'ligo.skymap 0.1.6',\n",
       "  'VCSREV': '79504ec9fb1890fa91665bd69d7aa66cdaf11184',\n",
       "  'DATE-BLD': '2019-03-26T18:11:21',\n",
       "  'HISTORY': 'gwcelery worker -l info -n gwcelery-openmp-worker -Q openmp -c 1'}}"
      ]
     },
     "execution_count": 10,
     "metadata": {},
     "output_type": "execute_result"
    }
   ],
   "source": [
    "# if you have the root object (e.g. from pygcn)\n",
    "a.resetall()\n",
    "from lxml import etree\n",
    "tree = etree.parse('LVC#S190510g-2-Initial.xml')\n",
    "root = tree.getroot() \n",
    "a.root(root)\n",
    "a.data_list()"
   ]
  },
  {
   "cell_type": "code",
   "execution_count": 32,
   "metadata": {},
   "outputs": [
    {
     "name": "stdout",
     "output_type": "stream",
     "text": [
      "Sigma is 254.796540 arcmin (0.074117 rad) \n",
      "-> fwhm is 600.000000 arcmin\n",
      "Sigma is 0.000000 arcmin (0.000000 rad) \n",
      "-> fwhm is 0.000000 arcmin\n"
     ]
    },
    {
     "data": {
      "text/plain": [
       "{'hpmap': array([8.92728175e-11, 8.92185286e-11, 8.91040539e-11, ...,\n",
       "        6.12155463e-11, 6.08690152e-11, 6.10351951e-11]),\n",
       " 'xmlinf': None,\n",
       " 'fithdr': None}"
      ]
     },
     "execution_count": 32,
     "metadata": {},
     "output_type": "execute_result"
    }
   ],
   "source": [
    "# if you want to manually trigger ra=30, dec=-20 with an error box=10 sq deg\n",
    "a.resetall()\n",
    "a.coo([30,-20,10])\n",
    "a.data_list()"
   ]
  },
  {
   "cell_type": "markdown",
   "metadata": {},
   "source": [
    "Now the trigger is already parsed"
   ]
  },
  {
   "cell_type": "code",
   "execution_count": 11,
   "metadata": {},
   "outputs": [
    {
     "name": "stderr",
     "output_type": "stream",
     "text": [
      "INFO:pst.pipeline.PstParseTriggers:hpmap has already been parsed\n"
     ]
    },
    {
     "data": {
      "text/plain": [
       "True"
      ]
     },
     "execution_count": 11,
     "metadata": {},
     "output_type": "execute_result"
    }
   ],
   "source": [
    "a.checkhp()"
   ]
  },
  {
   "cell_type": "markdown",
   "metadata": {},
   "source": [
    "and then, we can estime if the trigger is worth to follow or not:"
   ]
  },
  {
   "cell_type": "code",
   "execution_count": 12,
   "metadata": {
    "scrolled": true
   },
   "outputs": [
    {
     "data": {
      "text/plain": [
       "'`GraceID`:S190510g\\n`AlertType`:Initial\\n`Group`:CBC\\n`FAR`:8.42945108717e-10\\n`Terrestrial`:0.0203014633781\\n`HasNS`:1.0\\n`HasRemnant`:1.0\\n`BNS`:0.979698536622\\n`BBH`:0.0\\n`NSBH`:0.0\\n`Instruments`:H1,L1,V1\\n`EventPage`:https://gracedb.ligo.org/superevents/S190510g/view/\\n`DISTMEAN`:268.8566049372629\\n`DISTSTD`:108.0709050006497\\n`DATE-OBS`:2019-05-10T02:59:39.292500\\n`MJD-OBS`:58613.12476032978\\n`OBJECT`:G331903\\n`INSTRUME`:H1,L1,V1\\n`CREATOR`:BAYESTAR\\n'"
      ]
     },
     "execution_count": 12,
     "metadata": {},
     "output_type": "execute_result"
    }
   ],
   "source": [
    "# make a report\n",
    "a.make_report(style='slack')"
   ]
  },
  {
   "cell_type": "code",
   "execution_count": 13,
   "metadata": {
    "scrolled": true
   },
   "outputs": [
    {
     "name": "stderr",
     "output_type": "stream",
     "text": [
      "INFO:pst.pipeline.PstParseTriggers:hpmap has already been parsed\n"
     ]
    },
    {
     "data": {
      "text/plain": [
       "{0.5: 575.5456172035578, 0.9: 3463.7648737864856}"
      ]
     },
     "execution_count": 13,
     "metadata": {},
     "output_type": "execute_result"
    }
   ],
   "source": [
    "# estimate the area of trigger in different confidence level\n",
    "a.calc_area()"
   ]
  },
  {
   "cell_type": "code",
   "execution_count": 14,
   "metadata": {},
   "outputs": [
    {
     "name": "stderr",
     "output_type": "stream",
     "text": [
      "INFO:pst.pipeline.PstParseTriggers:hpmap has already been parsed\n"
     ]
    },
    {
     "data": {
      "text/plain": [
       "{0.5: array([2414072, 2418168, 2416119, ..., 2018356, 2022450, 2024499])}"
      ]
     },
     "execution_count": 14,
     "metadata": {},
     "output_type": "execute_result"
    }
   ],
   "source": [
    "# get all healpix indices of trigger in different confidence level\n",
    "a.calc_contours(cls=[.5])"
   ]
  },
  {
   "cell_type": "code",
   "execution_count": 15,
   "metadata": {},
   "outputs": [
    {
     "name": "stderr",
     "output_type": "stream",
     "text": [
      "INFO:pst.pipeline.PstParseTriggers:hpmap has already been parsed\n",
      "INFO:pst.pipeline.PstParseTriggers:hpmap has already been parsed\n",
      "INFO:pst.pipeline.PstParseTriggers:hpmap has already been parsed\n"
     ]
    },
    {
     "data": {
      "text/plain": [
       "{0.5: 95.88929896537581}"
      ]
     },
     "execution_count": 15,
     "metadata": {},
     "output_type": "execute_result"
    }
   ],
   "source": [
    "'''\n",
    "estimate the area of trigger in different confidence level, after constrain airmass and sun constrains\n",
    "chech https://www.eso.org/~ndelmott/obs_sites.html for telescope coordinates\n",
    "for a test, here shows for GW trigger S190510g, how much area is visible in Asiago at the first moment of this decade\n",
    "''' \n",
    "a.calc_vis(lon=11.528, lat=51.861, alt=1045, limalt=2, limsun=-18, obstime='2020-01-01 00:00:00')"
   ]
  },
  {
   "cell_type": "code",
   "execution_count": 19,
   "metadata": {},
   "outputs": [
    {
     "name": "stderr",
     "output_type": "stream",
     "text": [
      "INFO:pst.pipeline.PstParseTriggers:running with lxml.etree\n",
      "INFO:pst.pipeline.PstParseTriggers:### Warning: no C1 found in voevent\n",
      "INFO:pst.pipeline.PstParseTriggers:### Warning: no C2 found in voevent\n",
      "INFO:pst.pipeline.PstParseTriggers:### Warning: no Error2Radius found in voevent\n",
      "INFO:pst.pipeline.PstParseTriggers:obtain hpmap via skymap_fits\n"
     ]
    },
    {
     "name": "stdout",
     "output_type": "stream",
     "text": [
      "NSIDE = 512\n",
      "ORDERING = NESTED in fits file\n",
      "INDXSCHM = IMPLICIT\n",
      "Ordering converted to RING\n",
      "Ordering converted to RING\n",
      "Ordering converted to RING\n",
      "Ordering converted to RING\n",
      "268.8566049372629\n",
      "Initial\n",
      "8.42945108717e-10\n"
     ]
    }
   ],
   "source": [
    "# get the other possible interesting values to evaluate a GW trigger\n",
    "a.resetall()\n",
    "a.xml('LVC#S190510g-2-Initial.xml')\n",
    "print (a.get('fithdr')['DISTMEAN'])\n",
    "print (a.get('xmlinf')['AlertType'])\n",
    "print (a.get('xmlinf')['FAR'])"
   ]
  },
  {
   "cell_type": "code",
   "execution_count": 22,
   "metadata": {},
   "outputs": [
    {
     "data": {
      "text/plain": [
       "'GraceID:S190510g AlertType:Initial Group:CBC FAR:8.42945108717e-10 Terrestrial:0.0203014633781 HasNS:1.0 HasRemnant:1.0 BNS:0.979698536622 BBH:0.0 NSBH:0.0 Instruments:H1,L1,V1 EventPage:https://gracedb.ligo.org/superevents/S190510g/view/ DISTMEAN:268.8566049372629 DISTSTD:108.0709050006497 DATE-OBS:2019-05-10T02:59:39.292500 OBJECT:G331903 '"
      ]
     },
     "execution_count": 22,
     "metadata": {},
     "output_type": "execute_result"
    }
   ],
   "source": [
    "# if above step failed at some point, check if the key you're asking is supposed to be provided and is included\n",
    "a.keys_to_checkxml\n",
    "a.keys_to_checkfits\n",
    "\n",
    "# and you can modify the above attributes to include them\n",
    "a.keys_to_checkfits = ('DISTMEAN', 'DISTSTD', 'DATE-OBS', 'OBJECT')\n",
    "a.make_report()"
   ]
  },
  {
   "cell_type": "markdown",
   "metadata": {},
   "source": [
    "Instead of using the PstParseTriggers default parameters or input them every time calling a method, the best approach is to configure all possible parameters (and the logger) at the very beginning"
   ]
  },
  {
   "cell_type": "code",
   "execution_count": 34,
   "metadata": {},
   "outputs": [],
   "source": [
    "# Create a logger\n",
    "import logging, os\n",
    "logpath = './'\n",
    "logger = logging.getLogger()\n",
    "logger.setLevel((logging.INFO))\n",
    "handler = logging.FileHandler(os.path.join(logpath, 'pstools_triggers.log'))\n",
    "logger.addHandler(handler)"
   ]
  },
  {
   "cell_type": "code",
   "execution_count": 35,
   "metadata": {},
   "outputs": [],
   "source": [
    "# configure parameter settings\n",
    "conf =  {\n",
    "            'wdir':      '/tmp/',    # `str`   working directory\n",
    "            'savefits':  None,       # `str`   save file or not\n",
    "            'nside':     512,        # `int`   healpix map default resolution\n",
    "            'coord':     'C',        # `str`   healpix map defualt coordinate system: G, C, E\n",
    "            'nest':      False,      # `bool`  healpix map defualt ordering: nest or ring\n",
    "            'cls':       [.5,.9,.99],# `list`  confidence levels for contours\n",
    "            'style':     'email',    # `str`   report type           \n",
    "            'lat':       24.625,     # `float` la palma chile\n",
    "            'lon':       70.403,     # `float` la palma chile\n",
    "            'alt':       2635,       # `float` la palma chile\n",
    "            'obstime':   None        # None for now, or astropy.time, \n",
    "                                     # or `float` represents how much time before (negative) or later (positive)\n",
    "        }"
   ]
  },
  {
   "cell_type": "code",
   "execution_count": 36,
   "metadata": {},
   "outputs": [
    {
     "data": {
      "text/plain": [
       "{'wdir': '/tmp/',\n",
       " 'savefits': None,\n",
       " 'nside': 512,\n",
       " 'coord': 'C',\n",
       " 'nest': False,\n",
       " 'cls': [0.5, 0.9, 0.99],\n",
       " 'style': 'email',\n",
       " 'lat': 24.625,\n",
       " 'lon': 70.403,\n",
       " 'alt': 2635,\n",
       " 'obstime': None}"
      ]
     },
     "execution_count": 36,
     "metadata": {},
     "output_type": "execute_result"
    }
   ],
   "source": [
    "a.resetall()\n",
    "a=PstParseTriggers(defconf=conf, logger=logger)\n",
    "a.conf"
   ]
  },
  {
   "cell_type": "code",
   "execution_count": 37,
   "metadata": {
    "scrolled": true
   },
   "outputs": [
    {
     "name": "stdout",
     "output_type": "stream",
     "text": [
      "NSIDE = 512\n",
      "ORDERING = NESTED in fits file\n",
      "INDXSCHM = IMPLICIT\n",
      "Ordering converted to RING\n",
      "Ordering converted to RING\n"
     ]
    },
    {
     "name": "stderr",
     "output_type": "stream",
     "text": [
      "INFO:root:hpmap has already been parsed\n"
     ]
    },
    {
     "name": "stdout",
     "output_type": "stream",
     "text": [
      "Ordering converted to RING\n",
      "Ordering converted to RING\n"
     ]
    },
    {
     "data": {
      "text/plain": [
       "{0.5: 575.5456172035578, 0.9: 3463.7648737864856, 0.99: 11508.39446313552}"
      ]
     },
     "execution_count": 37,
     "metadata": {},
     "output_type": "execute_result"
    }
   ],
   "source": [
    "a.url('https://gracedb.ligo.org/api/superevents/S190510g/files/bayestar.fits.gz')\n",
    "a.calc_area()"
   ]
  },
  {
   "cell_type": "code",
   "execution_count": null,
   "metadata": {},
   "outputs": [],
   "source": []
  }
 ],
 "metadata": {
  "kernelspec": {
   "display_name": "Python [conda env:astroconda] *",
   "language": "python",
   "name": "conda-env-astroconda-py"
  },
  "language_info": {
   "codemirror_mode": {
    "name": "ipython",
    "version": 3
   },
   "file_extension": ".py",
   "mimetype": "text/x-python",
   "name": "python",
   "nbconvert_exporter": "python",
   "pygments_lexer": "ipython3",
   "version": "3.6.7"
  }
 },
 "nbformat": 4,
 "nbformat_minor": 2
}
