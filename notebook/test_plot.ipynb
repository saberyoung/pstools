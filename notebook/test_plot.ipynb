{
 "cells": [
  {
   "cell_type": "markdown",
   "metadata": {},
   "source": [
    "# Some examples show how to use pst.Plotter"
   ]
  },
  {
   "cell_type": "markdown",
   "metadata": {},
   "source": [
    "import module and initialize trigger, tilings, galaxy object"
   ]
  },
  {
   "cell_type": "code",
   "execution_count": 1,
   "metadata": {},
   "outputs": [
    {
     "name": "stdout",
     "output_type": "stream",
     "text": [
      "NSIDE = 512\n",
      "ORDERING = NESTED in fits file\n",
      "INDXSCHM = IMPLICIT\n",
      "Ordering converted to RING\n",
      "Ordering converted to RING\n",
      "Ordering converted to RING\n",
      "Ordering converted to RING\n"
     ]
    },
    {
     "name": "stderr",
     "output_type": "stream",
     "text": [
      "INFO:pst.pipeline.PstGetGalaxies:3778 galaxies selected from VII/281\n"
     ]
    }
   ],
   "source": [
    "from pst.pipeline.PstParseTriggers import PstParseTriggers\n",
    "from pst.pipeline.PstGetTilings import PstGetTilings\n",
    "from pst.pipeline.PstGetGalaxies import PstGetGalaxies\n",
    "from pst.view.PstPlotter import PstPlotter\n",
    "\n",
    "# trigger\n",
    "_gw=PstParseTriggers()\n",
    "_gw.url('https://gracedb.ligo.org/api/superevents/S190510g/files/bayestar.fits.gz')\n",
    "\n",
    "# tiling\n",
    "tel1=PstGetTilings()\n",
    "tel1.generate(limra=[0,360],limdec=[-20,90],fovra=1.,fovdec=1.)\n",
    "tel1.set_name('VST')\n",
    "\n",
    "# galaxies\n",
    "tel2=PstGetGalaxies()\n",
    "tel2.generate(catalog='GLADE', limdist=[0,40])\n",
    "tel2.set_name('PROMPT')\n",
    "\n",
    "# plotter\n",
    "_plotter=PstPlotter()"
   ]
  },
  {
   "cell_type": "code",
   "execution_count": 2,
   "metadata": {},
   "outputs": [],
   "source": [
    "#fig=_plotter.triggershow(_gw,contours=[.9], ptype='m', theta=90, phi=0, psi=0, nest=None, \n",
    "#                     coord='C', norm='None', vmin=0,  vmax=10**(-5), \n",
    "#                     fignum=1, cbar=True, title='S190510g sky localization')"
   ]
  },
  {
   "cell_type": "code",
   "execution_count": null,
   "metadata": {},
   "outputs": [
    {
     "name": "stderr",
     "output_type": "stream",
     "text": [
      "INFO:pst.pipeline.PstParseTriggers:hpmap has already been parsed\n"
     ]
    },
    {
     "name": "stdout",
     "output_type": "stream",
     "text": [
      "0.9\n"
     ]
    }
   ],
   "source": [
    "prob = tel1.cut_contours(_gw, cls=[.9])\n",
    "prob"
   ]
  },
  {
   "cell_type": "code",
   "execution_count": null,
   "metadata": {},
   "outputs": [],
   "source": [
    "#fig=_plotter.tilingshow(tel1,theta=90, phi=0, psi=0, nest=None, coord=None, fignum=1)"
   ]
  },
  {
   "cell_type": "code",
   "execution_count": null,
   "metadata": {},
   "outputs": [],
   "source": []
  }
 ],
 "metadata": {
  "kernelspec": {
   "display_name": "Python [conda env:astroconda] *",
   "language": "python",
   "name": "conda-env-astroconda-py"
  },
  "language_info": {
   "codemirror_mode": {
    "name": "ipython",
    "version": 3
   },
   "file_extension": ".py",
   "mimetype": "text/x-python",
   "name": "python",
   "nbconvert_exporter": "python",
   "pygments_lexer": "ipython3",
   "version": "3.6.7"
  }
 },
 "nbformat": 4,
 "nbformat_minor": 2
}
